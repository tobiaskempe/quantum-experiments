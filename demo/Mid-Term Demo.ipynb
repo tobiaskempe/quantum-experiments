{
 "cells": [
  {
   "cell_type": "markdown",
   "id": "82e126d2",
   "metadata": {},
   "source": [
    "### Imports"
   ]
  },
  {
   "cell_type": "code",
   "execution_count": 9,
   "id": "6d9adc72",
   "metadata": {},
   "outputs": [],
   "source": [
    "import numpy as np\n",
    "from dwave.system.samplers import DWaveSampler\n",
    "from dwave.system.composites import EmbeddingComposite\n",
    "import dwave.inspector\n",
    "import dimod\n",
    "import networkx as nx\n",
    "import matplotlib.pyplot as plt\n",
    "from collections import defaultdict"
   ]
  },
  {
   "cell_type": "code",
   "execution_count": 3,
   "id": "ebba14d1",
   "metadata": {},
   "outputs": [],
   "source": [
    "graph = nx.Graph()\n",
    "graph.add_edges_from([(1, 2), (1, 3), (1, 4), (3, 4), (3, 5), (5, 6), (2, 6)])"
   ]
  },
  {
   "cell_type": "code",
   "execution_count": 12,
   "id": "76deab95",
   "metadata": {},
   "outputs": [
    {
     "data": {
      "image/png": "[encoded data removed]",
      "text/plain": [
       "<Figure size 432x288 with 1 Axes>"
      ]
     },
     "metadata": {},
     "output_type": "display_data"
    }
   ],
   "source": [
    "positioning = nx.spring_layout(graph)\n",
    "nx.draw_networkx_nodes(graph, positioning)\n",
    "nx.draw_networkx_edges(graph, positioning)\n",
    "nx.draw_networkx_labels(graph, positioning)\n",
    "plt.show()"
   ]
  },
  {
   "cell_type": "code",
   "execution_count": 10,
   "id": "21f89e1d",
   "metadata": {},
   "outputs": [],
   "source": [
    "h = defaultdict(int)\n",
    "J = defaultdict(int)"
   ]
  },
  {
   "cell_type": "code",
   "execution_count": 11,
   "id": "15baa372",
   "metadata": {},
   "outputs": [],
   "source": [
    "for edge in graph.edges:\n",
    "    J[edge] += 1"
   ]
  },
  {
   "cell_type": "code",
   "execution_count": 13,
   "id": "1c80e7b3",
   "metadata": {},
   "outputs": [],
   "source": [
    "response = dimod.ExactSolver().sample_ising(h, J)"
   ]
  },
  {
   "cell_type": "code",
   "execution_count": 24,
   "id": "91c099f8",
   "metadata": {},
   "outputs": [
    {
     "data": {
      "text/plain": [
       "[1, -1, 1, -1, -1, 1]"
      ]
     },
     "execution_count": 24,
     "metadata": {},
     "output_type": "execute_result"
    }
   ],
   "source": [
    "list(response.first.sample.values())"
   ]
  },
  {
   "cell_type": "code",
   "execution_count": null,
   "id": "8a7c7ded",
   "metadata": {},
   "outputs": [],
   "source": []
  }
 ],
 "metadata": {
  "kernelspec": {
   "display_name": "Python 3 (ipykernel)",
   "language": "python",
   "name": "python3"
  },
  "language_info": {
   "codemirror_mode": {
    "name": "ipython",
    "version": 3
   },
   "file_extension": ".py",
   "mimetype": "text/x-python",
   "name": "python",
   "nbconvert_exporter": "python",
   "pygments_lexer": "ipython3",
   "version": "3.9.5"
  }
 },
 "nbformat": 4,
 "nbformat_minor": 5
}
