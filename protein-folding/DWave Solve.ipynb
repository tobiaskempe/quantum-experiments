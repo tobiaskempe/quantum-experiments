{
 "cells": [
  {
   "cell_type": "code",
   "execution_count": 63,
   "id": "980a54f2",
   "metadata": {},
   "outputs": [],
   "source": [
    "import numpy as np\n",
    "from dwave.system.samplers import DWaveSampler\n",
    "from dwave.system.composites import EmbeddingComposite\n",
    "import dwave.inspector\n",
    "import dimod\n",
    "import importlib"
   ]
  },
  {
   "cell_type": "code",
   "execution_count": 79,
   "id": "9742a3f5",
   "metadata": {},
   "outputs": [
    {
     "name": "stdout",
     "output_type": "stream",
     "text": [
      "1662973014.2323494\n",
      "len(Q): 402\n",
      "2.0\n"
     ]
    }
   ],
   "source": [
    "import qubo_params\n",
    "importlib.reload(qubo_params)\n",
    "Q = qubo_params.Q\n",
    "\n",
    "print(f'len(Q): {len(Q)}')\n",
    "print(max(Q.values()))"
   ]
  },
  {
   "cell_type": "code",
   "execution_count": 80,
   "id": "5f9e7325",
   "metadata": {},
   "outputs": [
    {
     "name": "stdout",
     "output_type": "stream",
     "text": [
      "chain strength: 2.0\n"
     ]
    }
   ],
   "source": [
    "relative_chain_strength = 1\n",
    "chain_strength = max(Q.values()) * relative_chain_strength\n",
    "print(f'chain strength: {chain_strength}')\n",
    "\n",
    "n_runs = 100"
   ]
  },
  {
   "cell_type": "code",
   "execution_count": 81,
   "id": "15d38d68",
   "metadata": {},
   "outputs": [],
   "source": [
    "use_qpu = True\n",
    "if use_qpu:\n",
    "    bqm = dimod.BQM.from_qubo(Q)\n",
    "    sampler = EmbeddingComposite(DWaveSampler())\n",
    "    response = sampler.sample(\n",
    "      bqm,\n",
    "      chain_strength=chain_strength,\n",
    "      num_reads=n_runs,\n",
    "      annealing_time=100,\n",
    "      label='Protein Folding (QUBO)',\n",
    "    )\n",
    "else:\n",
    "    response = dimod.ExactSolver().sample_qubo(Q)"
   ]
  },
  {
   "cell_type": "code",
   "execution_count": 83,
   "id": "b65f68af",
   "metadata": {},
   "outputs": [
    {
     "name": "stdout",
     "output_type": "stream",
     "text": [
      "Energy Reached: -4.75\n",
      "Number of records: 100\n",
      "Number of solutions: 2\n",
      "   0  1  2  3  4  5  6  7  8  9 10 11 12 13 14 15 16 ... 35 energy num_oc. ...\n",
      "0  0  0  0  0  0  0  0  0  0  0  0  0  1  0  0  0  0 ...  0  -4.75       1 ...\n",
      "1  0  0  0  0  0  1  0  0  0  0  0  0  0  0  0  1  1 ...  0  -4.75       1 ...\n",
      "['BINARY', 2 rows, 2 samples, 36 variables]\n",
      "Sample(sample={0: 0, 1: 0, 2: 0, 3: 0, 4: 0, 5: 0, 6: 0, 7: 0, 8: 0, 9: 0, 10: 0, 11: 0, 12: 1, 13: 0, 14: 0, 15: 0, 16: 0, 17: 0, 18: 0, 19: 0, 20: 0, 21: 0, 22: 0, 23: 0, 24: 0, 25: 0, 26: 0, 27: 1, 28: 0, 29: 0, 30: 1, 31: 0, 32: 0, 33: 1, 34: 0, 35: 0}, energy=-4.75, num_occurrences=1, chain_break_fraction=0.027777777777777776)\n"
     ]
    }
   ],
   "source": [
    "print(\"Energy Reached:\", response.first.energy)\n",
    "print(f\"Number of records: {len(response.record)}\")\n",
    "solutions = response.lowest()\n",
    "print(f'Number of solutions: {len(solutions)}')\n",
    "print(solutions.slice(0, 10))\n",
    "print(response.first)"
   ]
  },
  {
   "cell_type": "code",
   "execution_count": 73,
   "id": "db73bc6a",
   "metadata": {
    "scrolled": true
   },
   "outputs": [
    {
     "data": {
      "text/plain": [
       "'http://127.0.0.1:18000/?problemId=83cb2f29-cd27-4167-959e-987c2438818e'"
      ]
     },
     "execution_count": 73,
     "metadata": {},
     "output_type": "execute_result"
    }
   ],
   "source": [
    "dwave.inspector.show(response)"
   ]
  },
  {
   "cell_type": "code",
   "execution_count": null,
   "id": "9cb44c89",
   "metadata": {},
   "outputs": [],
   "source": []
  }
 ],
 "metadata": {
  "kernelspec": {
   "display_name": "Python 3 (ipykernel)",
   "language": "python",
   "name": "python3"
  },
  "language_info": {
   "codemirror_mode": {
    "name": "ipython",
    "version": 3
   },
   "file_extension": ".py",
   "mimetype": "text/x-python",
   "name": "python",
   "nbconvert_exporter": "python",
   "pygments_lexer": "ipython3",
   "version": "3.9.5"
  }
 },
 "nbformat": 4,
 "nbformat_minor": 5
}
