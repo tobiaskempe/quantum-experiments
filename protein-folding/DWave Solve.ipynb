{
 "cells": [
  {
   "cell_type": "code",
   "execution_count": 1,
   "id": "980a54f2",
   "metadata": {},
   "outputs": [
    {
     "data": {
      "text/plain": [
       "<module 'draw_grid' from 'C:\\\\Users\\\\tkemp\\\\dev\\\\quantum-experiments\\\\protein-folding\\\\draw_grid.py'>"
      ]
     },
     "execution_count": 1,
     "metadata": {},
     "output_type": "execute_result"
    }
   ],
   "source": [
    "import numpy as np\n",
    "from dwave.system.samplers import DWaveSampler\n",
    "from dwave.system.composites import EmbeddingComposite\n",
    "import dwave.inspector\n",
    "import dimod\n",
    "import importlib\n",
    "import draw_grid\n",
    "importlib.reload(draw_grid)"
   ]
  },
  {
   "cell_type": "code",
   "execution_count": 25,
   "id": "9742a3f5",
   "metadata": {},
   "outputs": [
    {
     "name": "stdout",
     "output_type": "stream",
     "text": [
      "1664873972.0784934\n",
      "90\n",
      "0.19325842696629214\n",
      "len(Q): 864\n",
      "3.5\n"
     ]
    }
   ],
   "source": [
    "import qubo_params\n",
    "importlib.reload(qubo_params)\n",
    "\n",
    "S = 0\n",
    "L = 2\n",
    "\n",
    "Q = qubo_params.get_Q(2, 3)\n",
    "\n",
    "qwer = 10 * 9\n",
    "print(qwer)\n",
    "print((len(Q) - qwer) / ((qwer**2 - qwer) / 2))\n",
    "#print(Q.shape)\n",
    "\n",
    "print(f'len(Q): {len(Q)}')\n",
    "print(max(Q.values()))"
   ]
  },
  {
   "cell_type": "code",
   "execution_count": 26,
   "id": "7c62a908",
   "metadata": {},
   "outputs": [
    {
     "name": "stdout",
     "output_type": "stream",
     "text": [
      "[[-1.   3.5  2.   2.   2.   2.   2.   2. ]\n",
      " [ 0.  -1.   3.5  2.   2.   2.   2.   0. ]\n",
      " [ 0.   0.  -1.   3.5  2.   2.   2.   0. ]\n",
      " [ 0.   0.   0.  -1.   3.5  2.   2.   0. ]\n",
      " [ 0.   0.   0.   0.  -1.   3.5  2.   0. ]\n",
      " [ 0.   0.   0.   0.   0.  -1.   3.5  0. ]\n",
      " [ 0.   0.   0.   0.   0.   0.  -1.   0. ]\n",
      " [ 0.   0.   0.   0.   0.   0.   0.  -1. ]]\n"
     ]
    }
   ],
   "source": [
    "A = np.zeros((qwer, qwer))\n",
    "for ij in Q:\n",
    "    A[ij] = Q[ij]\n",
    "print(A[:8, :8])"
   ]
  },
  {
   "cell_type": "code",
   "execution_count": 27,
   "id": "5f9e7325",
   "metadata": {},
   "outputs": [
    {
     "name": "stdout",
     "output_type": "stream",
     "text": [
      "chain strength: 1.4000000000000001\n"
     ]
    }
   ],
   "source": [
    "relative_chain_strength = 0.4\n",
    "chain_strength = max(Q.values()) * relative_chain_strength\n",
    "print(f'chain strength: {chain_strength}')\n",
    "\n",
    "n_runs = 100"
   ]
  },
  {
   "cell_type": "code",
   "execution_count": 28,
   "id": "15d38d68",
   "metadata": {},
   "outputs": [
    {
     "name": "stderr",
     "output_type": "stream",
     "text": [
      "2022-10-04 10:59:37,658 dwave.inspector.adapters ERROR MainThread Solver topology {'type': 'zephyr', 'shape': [4, 4]} not supported.\n"
     ]
    }
   ],
   "source": [
    "use_qpu = True\n",
    "if use_qpu:\n",
    "    bqm = dimod.BQM.from_qubo(Q)\n",
    "    sampler = EmbeddingComposite(DWaveSampler(solver='Advantage2_prototype1.1'))\n",
    "    response = sampler.sample(\n",
    "      bqm,\n",
    "      chain_strength=2.8,\n",
    "      num_reads=490,\n",
    "      annealing_time=100,\n",
    "      label='Protein Folding (QUBO)',\n",
    "    )\n",
    "elif False:\n",
    "    response = dimod.ExactSolver().sample_qubo(Q)\n",
    "else:\n",
    "    response = dimod.IdentitySampler().sample_qubo(Q, initial_states=[0.0, 1.0, 0.0, 0.0, 0.0, 0.0, 0.0, 0.0, 1.0, 0.0, 0.0, 0.0, 0.0, 0.0, 0.0, 0.0, 0.0, 0.0, 1.0, 0.0, 0.0, 0.0, 0.0, 0.0, 0.0, 0.0, 0.0, 1.0, 0.0, 0.0, 0.0, 0.0, 0.0, 0.0, 0.0, 0.0, 0.0, 0.0, 0.0, 0.0, 0.0, 1.0, 0.0, 0.0, 0.0, 0.0, 1.0, 0.0, 0.0, 0.0, 0.0, 0.0, 0.0, 0.0])\n"
   ]
  },
  {
   "cell_type": "code",
   "execution_count": null,
   "id": "b65f68af",
   "metadata": {},
   "outputs": [],
   "source": [
    "print(\"Energy Reached:\", response.first.energy)\n",
    "print(f\"Number of records: {len(response.record)}\")\n",
    "solutions = response.lowest()\n",
    "print(f'Number of solutions: {len(solutions)}')\n",
    "print(solutions.slice(0, 10))\n",
    "print(response.first)"
   ]
  },
  {
   "cell_type": "code",
   "execution_count": null,
   "id": "e97ea317",
   "metadata": {},
   "outputs": [],
   "source": [
    "response"
   ]
  },
  {
   "cell_type": "code",
   "execution_count": null,
   "id": "edc12792",
   "metadata": {},
   "outputs": [],
   "source": [
    "for x in response.lowest():\n",
    "    draw_grid.draw_grid_binary(np.array(list(x.values())), 3, 6)"
   ]
  },
  {
   "cell_type": "code",
   "execution_count": 18,
   "id": "b40da23c",
   "metadata": {},
   "outputs": [
    {
     "name": "stdout",
     "output_type": "stream",
     "text": [
      "Number of logical variables: 54\n",
      "Number of physical qubits used in embedding: 230\n"
     ]
    }
   ],
   "source": [
    "embedding = response.info['embedding_context']['embedding']\n",
    "print(f\"Number of logical variables: {len(embedding.keys())}\")\n",
    "print(f\"Number of physical qubits used in embedding: {sum(len(chain) for chain in embedding.values())}\")"
   ]
  },
  {
   "cell_type": "code",
   "execution_count": null,
   "id": "db73bc6a",
   "metadata": {
    "scrolled": true
   },
   "outputs": [
    {
     "name": "stderr",
     "output_type": "stream",
     "text": [
      "2022-09-25 20:05:12,922 dwave.inspector.server ERROR Thread-5 Exception on /api/problems/4ddaa03c-3e81-411e-b1d6-1ca1226a915b [GET]\n",
      "Traceback (most recent call last):\n",
      "  File \"c:\\users\\tkemp\\ocean\\lib\\site-packages\\flask\\app.py\", line 2077, in wsgi_app\n",
      "    response = self.full_dispatch_request()\n",
      "  File \"c:\\users\\tkemp\\ocean\\lib\\site-packages\\flask\\app.py\", line 1526, in full_dispatch_request\n",
      "    return self.finalize_request(rv)\n",
      "  File \"c:\\users\\tkemp\\ocean\\lib\\site-packages\\flask\\app.py\", line 1545, in finalize_request\n",
      "    response = self.make_response(rv)\n",
      "  File \"c:\\users\\tkemp\\ocean\\lib\\site-packages\\flask\\app.py\", line 1720, in make_response\n",
      "    rv = jsonify(rv)\n",
      "  File \"c:\\users\\tkemp\\ocean\\lib\\site-packages\\flask\\json\\__init__.py\", line 301, in jsonify\n",
      "    f\"{dumps(data, indent=indent, separators=separators)}\\n\",\n",
      "  File \"c:\\users\\tkemp\\ocean\\lib\\site-packages\\flask\\json\\__init__.py\", line 131, in dumps\n",
      "    return _json.dumps(obj, **kwargs)\n",
      "  File \"C:\\Users\\tkemp\\AppData\\Local\\Programs\\Python\\Python39\\lib\\json\\__init__.py\", line 234, in dumps\n",
      "    return cls(\n",
      "  File \"C:\\Users\\tkemp\\AppData\\Local\\Programs\\Python\\Python39\\lib\\json\\encoder.py\", line 199, in encode\n",
      "    chunks = self.iterencode(o, _one_shot=True)\n",
      "  File \"C:\\Users\\tkemp\\AppData\\Local\\Programs\\Python\\Python39\\lib\\json\\encoder.py\", line 257, in iterencode\n",
      "    return _iterencode(o, 0)\n",
      "  File \"c:\\users\\tkemp\\ocean\\lib\\site-packages\\flask\\json\\__init__.py\", line 50, in default\n",
      "    return super().default(o)\n",
      "  File \"C:\\Users\\tkemp\\AppData\\Local\\Programs\\Python\\Python39\\lib\\json\\encoder.py\", line 179, in default\n",
      "    raise TypeError(f'Object of type {o.__class__.__name__} '\n",
      "TypeError: Object of type int32 is not JSON serializable\n"
     ]
    }
   ],
   "source": [
    "if use_qpu:\n",
    "    dwave.inspector.show(response)"
   ]
  },
  {
   "cell_type": "code",
   "execution_count": 8,
   "id": "9cb44c89",
   "metadata": {},
   "outputs": [
    {
     "name": "stdout",
     "output_type": "stream",
     "text": [
      "[[2. 3.]\n",
      " [1. 4.]]\n",
      "[[2. 3. 0.]\n",
      " [1. 4. 0.]\n",
      " [6. 5. 0.]]\n",
      "[[6. 5. 4.]\n",
      " [7. 2. 3.]\n",
      " [0. 1. 0.]]\n",
      "[[2. 3. 4.]\n",
      " [1. 8. 5.]\n",
      " [0. 7. 6.]]\n",
      "[[3. 4. 0. 0.]\n",
      " [2. 5. 6. 0.]\n",
      " [1. 8. 7. 0.]\n",
      " [0. 9. 0. 0.]]\n",
      "[[ 0.  5.  6.  0.]\n",
      " [ 3.  4.  7.  8.]\n",
      " [ 2.  1. 10.  9.]\n",
      " [ 0.  0.  0.  0.]]\n",
      "[[ 0.  9. 10. 11.]\n",
      " [ 7.  8. 13. 12.]\n",
      " [ 6.  5. 14.  1.]\n",
      " [ 0.  4.  3.  2.]]\n",
      "[0.0, 1.0, 0.0, 0.0, 0.0, 0.0, 1.0, 0.0, 1.0, 0.0, 0.0, 0.0, 0.0, 0.0, 0.0, 1.0]\n"
     ]
    }
   ],
   "source": [
    "import sequences\n",
    "importlib.reload(sequences)\n",
    "S = sequences.structures\n",
    "def z(structure, L):\n",
    "    Ls = L**2\n",
    "    N = len(structure)\n",
    "    D = Ls * N\n",
    "    x = np.zeros((D))\n",
    "    for f, s in enumerate(structure):\n",
    "        x[s * N + f] = 1\n",
    "    return x\n",
    "d = draw_grid.draw_grid_binary\n",
    "d(z(S[0], 2), 2, 4)\n",
    "d(z(S[1], 3), 3, 6)\n",
    "d(z(S[2], 3), 3, 7)\n",
    "d(z(S[3], 3), 3, 8)\n",
    "d(z(S[4], 4), 4, 9)\n",
    "d(z(S[5], 4), 4, 10)\n",
    "d(z(S[6], 4), 4, 14)\n",
    "print(list(z(S[0], 2)))"
   ]
  },
  {
   "cell_type": "code",
   "execution_count": 9,
   "id": "ec1f7af7",
   "metadata": {},
   "outputs": [
    {
     "name": "stdout",
     "output_type": "stream",
     "text": [
      "Energy Reached: -5.0\n",
      "Number of records: 1\n",
      "Number of solutions: 1\n",
      "   0  1  2  3  4  5  6  7  8  9 10 11 12 13 14 15 energy num_oc.\n",
      "0  0  1  0  0  0  0  1  0  1  0  0  0  0  0  0  1   -5.0       1\n",
      "['BINARY', 1 rows, 1 samples, 16 variables]\n",
      "Sample(sample={0: 0.0, 1: 1.0, 2: 0.0, 3: 0.0, 4: 0.0, 5: 0.0, 6: 1.0, 7: 0.0, 8: 1.0, 9: 0.0, 10: 0.0, 11: 0.0, 12: 0.0, 13: 0.0, 14: 0.0, 15: 1.0}, energy=-5.0, num_occurrences=1)\n"
     ]
    }
   ],
   "source": [
    "response2 = dimod.IdentitySampler().sample_qubo(Q, initial_states=[0.0, 1.0, 0.0, 0.0, 0.0, 0.0, 1.0, 0.0, 1.0, 0.0, 0.0, 0.0, 0.0, 0.0, 0.0, 1.0])\n",
    "print(\"Energy Reached:\", response2.first.energy)\n",
    "print(f\"Number of records: {len(response2.record)}\")\n",
    "solutions = response2.lowest()\n",
    "print(f'Number of solutions: {len(solutions)}')\n",
    "print(response2.slice(0, 10))\n",
    "print(response2.first)"
   ]
  },
  {
   "cell_type": "code",
   "execution_count": null,
   "id": "4cb8c42e",
   "metadata": {},
   "outputs": [],
   "source": []
  }
 ],
 "metadata": {
  "kernelspec": {
   "display_name": "Python 3 (ipykernel)",
   "language": "python",
   "name": "python3"
  },
  "language_info": {
   "codemirror_mode": {
    "name": "ipython",
    "version": 3
   },
   "file_extension": ".py",
   "mimetype": "text/x-python",
   "name": "python",
   "nbconvert_exporter": "python",
   "pygments_lexer": "ipython3",
   "version": "3.9.5"
  }
 },
 "nbformat": 4,
 "nbformat_minor": 5
}
