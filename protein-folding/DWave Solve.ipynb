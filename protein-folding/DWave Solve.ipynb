{
 "cells": [
  {
   "cell_type": "code",
   "execution_count": 11,
   "id": "980a54f2",
   "metadata": {},
   "outputs": [
    {
     "data": {
      "text/plain": [
       "<module 'draw_grid' from 'C:\\\\Users\\\\tkemp\\\\dev\\\\quantum-experiments\\\\protein-folding\\\\draw_grid.py'>"
      ]
     },
     "execution_count": 11,
     "metadata": {},
     "output_type": "execute_result"
    }
   ],
   "source": [
    "import numpy as np\n",
    "from dwave.system.samplers import DWaveSampler\n",
    "from dwave.system.composites import EmbeddingComposite\n",
    "import dwave.inspector\n",
    "import dimod\n",
    "import importlib\n",
    "import draw_grid\n",
    "importlib.reload(draw_grid)"
   ]
  },
  {
   "cell_type": "code",
   "execution_count": 125,
   "id": "9742a3f5",
   "metadata": {},
   "outputs": [
    {
     "name": "stdout",
     "output_type": "stream",
     "text": [
      "1666185985.1843672\n",
      "90\n",
      "-0.00149812734082397\n",
      "len(Q): 84\n",
      "3.5\n"
     ]
    }
   ],
   "source": [
    "import qubo_params\n",
    "importlib.reload(qubo_params)\n",
    "\n",
    "S = 0\n",
    "L = 2\n",
    "\n",
    "Q = qubo_params.get_Q(0, 2)\n",
    "\n",
    "qwer = 10 * 9\n",
    "print(qwer)\n",
    "print((len(Q) - qwer) / ((qwer**2 - qwer) / 2))\n",
    "#print(Q.shape)\n",
    "\n",
    "print(f'len(Q): {len(Q)}')\n",
    "print(max(Q.values()))"
   ]
  },
  {
   "cell_type": "code",
   "execution_count": 126,
   "id": "938d3871",
   "metadata": {},
   "outputs": [
    {
     "name": "stdout",
     "output_type": "stream",
     "text": [
      "[0. 1. 0. 0. 0. 0. 0. 0. 1. 0. 0. 0. 0. 0. 0. 0. 0. 0. 1. 0. 0. 0. 0. 0.\n",
      " 0. 0. 0. 1. 0. 0. 0. 0. 0. 0. 0. 0. 0. 0. 0. 0. 0. 1. 0. 0. 0. 0. 1. 0.\n",
      " 0. 0. 0. 0. 0. 0.]\n",
      "[[2. 3. 0.]\n",
      " [1. 4. 0.]\n",
      " [6. 5. 0.]]\n"
     ]
    }
   ],
   "source": [
    "import sequences\n",
    "importlib.reload(sequences)\n",
    "proposal = sequences.build_result(sequences.structures[1], 3)\n",
    "print(proposal)\n",
    "draw_grid.draw_grid_binary(proposal, 3, 6)"
   ]
  },
  {
   "cell_type": "code",
   "execution_count": 127,
   "id": "7c62a908",
   "metadata": {},
   "outputs": [
    {
     "name": "stdout",
     "output_type": "stream",
     "text": [
      "[[-1.   3.5  2.   2.   2.   0.   0.  -1. ]\n",
      " [ 0.  -1.   3.5  2.   0.   2.   0.   0. ]\n",
      " [ 0.   0.  -1.   3.5  0.   0.   2.   0. ]\n",
      " [ 0.   0.   0.  -1.  -1.   0.   0.   2. ]\n",
      " [ 0.   0.   0.   0.  -1.   3.5  2.   2. ]\n",
      " [ 0.   0.   0.   0.   0.  -1.   3.5  2. ]\n",
      " [ 0.   0.   0.   0.   0.   0.  -1.   3.5]\n",
      " [ 0.   0.   0.   0.   0.   0.   0.  -1. ]]\n"
     ]
    }
   ],
   "source": [
    "A = np.zeros((qwer, qwer))\n",
    "for ij in Q:\n",
    "    A[ij] = Q[ij]\n",
    "print(A[:8, :8])"
   ]
  },
  {
   "cell_type": "code",
   "execution_count": 128,
   "id": "5f9e7325",
   "metadata": {},
   "outputs": [
    {
     "name": "stdout",
     "output_type": "stream",
     "text": [
      "chain strength: 1.4000000000000001\n"
     ]
    }
   ],
   "source": [
    "relative_chain_strength = 0.4\n",
    "chain_strength = max(Q.values()) * relative_chain_strength\n",
    "print(f'chain strength: {chain_strength}')\n",
    "\n",
    "n_runs = 100"
   ]
  },
  {
   "cell_type": "code",
   "execution_count": 129,
   "id": "15d38d68",
   "metadata": {},
   "outputs": [],
   "source": [
    "use_qpu = True\n",
    "if use_qpu:\n",
    "    bqm = dimod.BQM.from_qubo(Q)\n",
    "    sampler = EmbeddingComposite(DWaveSampler(solver='Advantage2_prototype1.1'))\n",
    "    response = sampler.sample(\n",
    "      bqm,\n",
    "      chain_strength=2.8,\n",
    "      num_reads=100,\n",
    "      annealing_time=2000,\n",
    "      label='Protein Folding (QUBO)',\n",
    "    )\n",
    "elif False:\n",
    "    response = dimod.ExactSolver().sample_qubo(Q)\n",
    "else:\n",
    "    response = dimod.IdentitySampler().sample_qubo(Q, initial_states=[0.0, 1.0, 0.0, 0.0, 0.0, 0.0, 0.0, 0.0, 1.0, 0.0, 0.0, 0.0, 0.0, 0.0, 0.0, 0.0, 0.0, 0.0, 1.0, 0.0, 0.0, 0.0, 0.0, 0.0, 0.0, 0.0, 0.0, 1.0, 0.0, 0.0, 0.0, 0.0, 0.0, 0.0, 0.0, 0.0, 0.0, 0.0, 0.0, 0.0, 0.0, 1.0, 0.0, 0.0, 0.0, 0.0, 1.0, 0.0, 0.0, 0.0, 0.0, 0.0, 0.0, 0.0])\n"
   ]
  },
  {
   "cell_type": "code",
   "execution_count": 130,
   "id": "b65f68af",
   "metadata": {},
   "outputs": [
    {
     "name": "stdout",
     "output_type": "stream",
     "text": [
      "Energy Reached: -5.0\n",
      "Number of records: 21\n",
      "Number of solutions: 8\n",
      "   0  1  2  3  4  5  6  7  8  9 10 11 12 13 14 15 energy num_oc. chain_.\n",
      "0  0  1  0  0  1  0  0  0  0  0  1  0  0  0  0  1   -5.0      15     0.0\n",
      "1  1  0  0  0  0  0  0  1  0  1  0  0  0  0  1  0   -5.0       3     0.0\n",
      "2  0  0  1  0  0  1  0  0  0  0  0  1  1  0  0  0   -5.0      19     0.0\n",
      "3  0  0  1  0  0  0  0  1  0  1  0  0  1  0  0  0   -5.0       1     0.0\n",
      "4  0  0  0  1  0  0  1  0  1  0  0  0  0  1  0  0   -5.0       5     0.0\n",
      "5  1  0  0  0  0  1  0  0  0  0  0  1  0  0  1  0   -5.0      20     0.0\n",
      "6  0  1  0  0  0  0  1  0  1  0  0  0  0  0  0  1   -5.0      10     0.0\n",
      "7  0  0  0  1  1  0  0  0  0  0  1  0  0  1  0  0   -5.0      10     0.0\n",
      "['BINARY', 8 rows, 83 samples, 16 variables]\n"
     ]
    }
   ],
   "source": [
    "print(\"Energy Reached:\", response.first.energy)\n",
    "print(f\"Number of records: {len(response.record)}\")\n",
    "solutions = response.lowest()\n",
    "print(f'Number of solutions: {len(solutions)}')\n",
    "print(solutions.slice(0, 10))\n",
    "#print(response.first)"
   ]
  },
  {
   "cell_type": "code",
   "execution_count": 131,
   "id": "e97ea317",
   "metadata": {},
   "outputs": [
    {
     "data": {
      "text/plain": [
       "SampleSet(rec.array([([0, 1, 0, 0, 1, 0, 0, 0, 0, 0, 1, 0, 0, 0, 0, 1], -5., 15, 0.),\n",
       "           ([1, 0, 0, 0, 0, 0, 0, 1, 0, 1, 0, 0, 0, 0, 1, 0], -5.,  3, 0.),\n",
       "           ([0, 0, 1, 0, 0, 1, 0, 0, 0, 0, 0, 1, 1, 0, 0, 0], -5., 19, 0.),\n",
       "           ([0, 0, 1, 0, 0, 0, 0, 1, 0, 1, 0, 0, 1, 0, 0, 0], -5.,  1, 0.),\n",
       "           ([0, 0, 0, 1, 0, 0, 1, 0, 1, 0, 0, 0, 0, 1, 0, 0], -5.,  5, 0.),\n",
       "           ([1, 0, 0, 0, 0, 1, 0, 0, 0, 0, 0, 1, 0, 0, 1, 0], -5., 20, 0.),\n",
       "           ([0, 1, 0, 0, 0, 0, 1, 0, 1, 0, 0, 0, 0, 0, 0, 1], -5., 10, 0.),\n",
       "           ([0, 0, 0, 1, 1, 0, 0, 0, 0, 0, 1, 0, 0, 1, 0, 0], -5., 10, 0.),\n",
       "           ([1, 0, 0, 0, 0, 0, 0, 1, 0, 0, 0, 1, 0, 0, 1, 0], -4.,  3, 0.),\n",
       "           ([0, 0, 0, 1, 0, 0, 1, 0, 1, 0, 0, 0, 0, 0, 0, 0], -4.,  1, 0.),\n",
       "           ([0, 0, 1, 0, 0, 0, 0, 1, 0, 0, 0, 1, 1, 0, 0, 0], -4.,  1, 0.),\n",
       "           ([0, 1, 0, 0, 1, 0, 0, 0, 0, 0, 0, 0, 0, 0, 0, 1], -4.,  2, 0.),\n",
       "           ([1, 0, 0, 0, 0, 0, 0, 0, 0, 0, 0, 1, 0, 0, 1, 0], -4.,  2, 0.),\n",
       "           ([0, 0, 0, 1, 1, 0, 0, 0, 1, 0, 0, 0, 0, 0, 0, 1], -4.,  1, 0.),\n",
       "           ([1, 0, 0, 0, 0, 1, 0, 0, 0, 0, 0, 1, 0, 0, 0, 0], -4.,  1, 0.),\n",
       "           ([0, 0, 0, 1, 1, 0, 0, 0, 0, 0, 1, 0, 0, 0, 0, 1], -4.,  1, 0.),\n",
       "           ([1, 0, 0, 0, 0, 0, 0, 1, 0, 1, 0, 0, 1, 0, 1, 0], -3.,  1, 0.),\n",
       "           ([0, 0, 0, 0, 0, 1, 0, 0, 0, 0, 0, 1, 0, 0, 1, 0], -3.,  1, 0.),\n",
       "           ([1, 0, 0, 0, 0, 1, 0, 0, 0, 0, 0, 1, 0, 0, 0, 1], -3.,  1, 0.),\n",
       "           ([1, 0, 0, 0, 0, 0, 0, 0, 0, 0, 0, 1, 0, 0, 0, 0], -3.,  1, 0.),\n",
       "           ([0, 1, 0, 0, 0, 0, 1, 0, 0, 0, 0, 1, 1, 0, 0, 0], -2.,  1, 0.)],\n",
       "          dtype=[('sample', 'i1', (16,)), ('energy', '<f8'), ('num_occurrences', '<i4'), ('chain_break_fraction', '<f8')]), Variables(range(0, 16)), {'timing': {'qpu_sampling_time': 204922.0, 'qpu_anneal_time_per_sample': 2000.0, 'qpu_readout_time_per_sample': 28.2, 'qpu_access_time': 211439.22, 'qpu_access_overhead_time': 10429.78, 'qpu_programming_time': 6517.22, 'qpu_delay_time_per_sample': 21.02, 'post_processing_overhead_time': 3737.0, 'total_post_processing_time': 3737.0}, 'problem_id': '6e302226-b9fc-4a58-8d89-b92ad2d54b84', 'problem_label': 'Protein Folding (QUBO)', 'embedding_context': {'embedding': {7: (92,), 0: (116, 345), 11: (377,), 3: (76, 332), 4: (369, 73), 15: (380, 44), 8: (80, 81), 12: (340, 84), 1: (361,), 5: (329, 108), 9: (100, 337), 13: (64, 65), 2: (68,), 6: (124, 321), 10: (353, 105), 14: (364, 365)}, 'chain_break_method': 'majority_vote', 'embedding_parameters': {}, 'chain_strength': 2.8}, 'warnings': [{'type': <class 'dwave.system.warnings.ChainStrengthWarning'>, 'message': 'Some quadratic biases are stronger than the given chain strength', 'level': 30, 'data': {'source_interactions': [(1, 0), (5, 4), (9, 8), (13, 12), (2, 3), (2, 1), (6, 7), (6, 5), (10, 11), (10, 9), (14, 15), (14, 13)]}}]}, 'BINARY')"
      ]
     },
     "execution_count": 131,
     "metadata": {},
     "output_type": "execute_result"
    }
   ],
   "source": [
    "response"
   ]
  },
  {
   "cell_type": "code",
   "execution_count": 132,
   "id": "edc12792",
   "metadata": {},
   "outputs": [
    {
     "name": "stdout",
     "output_type": "stream",
     "text": [
      "[[2. 1.]\n",
      " [3. 4.]]\n",
      "[[1. 4.]\n",
      " [2. 3.]]\n",
      "[[3. 2.]\n",
      " [4. 1.]]\n",
      "[[3. 4.]\n",
      " [2. 1.]]\n",
      "[[4. 3.]\n",
      " [1. 2.]]\n",
      "[[1. 2.]\n",
      " [4. 3.]]\n",
      "[[2. 3.]\n",
      " [1. 4.]]\n",
      "[[4. 1.]\n",
      " [3. 2.]]\n"
     ]
    }
   ],
   "source": [
    "for x in response.lowest():\n",
    "    draw_grid.draw_grid_binary(np.array(list(x.values())), 2, 4)"
   ]
  },
  {
   "cell_type": "code",
   "execution_count": 133,
   "id": "b40da23c",
   "metadata": {},
   "outputs": [
    {
     "name": "stdout",
     "output_type": "stream",
     "text": [
      "Number of logical variables: 16\n",
      "Number of physical qubits used in embedding: 28\n"
     ]
    }
   ],
   "source": [
    "embedding = response.info['embedding_context']['embedding']\n",
    "print(f\"Number of logical variables: {len(embedding.keys())}\")\n",
    "print(f\"Number of physical qubits used in embedding: {sum(len(chain) for chain in embedding.values())}\")"
   ]
  },
  {
   "cell_type": "code",
   "execution_count": 134,
   "id": "db73bc6a",
   "metadata": {
    "scrolled": true
   },
   "outputs": [],
   "source": [
    "if use_qpu:\n",
    "    dwave.inspector.show(response)"
   ]
  },
  {
   "cell_type": "code",
   "execution_count": 41,
   "id": "6f1494e9",
   "metadata": {},
   "outputs": [
    {
     "name": "stdout",
     "output_type": "stream",
     "text": [
      "[([1, 0, 0, 0, 0, 0, 0, 1, 0, 1, 0, 0, 0, 0, 1, 0], -5. ,  1, 0.    )\n",
      " ([0, 0, 0, 1, 0, 0, 1, 0, 1, 0, 0, 0, 0, 1, 0, 0], -5. ,  2, 0.    )\n",
      " ([0, 0, 0, 1, 1, 0, 0, 0, 0, 0, 1, 0, 0, 1, 0, 0], -5. ,  3, 0.    )\n",
      " ([0, 1, 0, 0, 0, 0, 1, 0, 1, 0, 0, 0, 0, 0, 0, 1], -5. ,  4, 0.    )\n",
      " ([0, 1, 0, 0, 1, 0, 0, 0, 0, 0, 1, 0, 0, 0, 0, 1], -5. , 12, 0.    )\n",
      " ([0, 0, 1, 0, 0, 0, 0, 1, 0, 1, 0, 0, 1, 0, 0, 0], -5. ,  4, 0.    )\n",
      " ([1, 0, 0, 0, 0, 1, 0, 0, 0, 0, 0, 1, 0, 0, 1, 0], -5. ,  4, 0.    )\n",
      " ([0, 0, 0, 1, 1, 0, 0, 0, 1, 0, 0, 0, 0, 1, 0, 0], -4. ,  1, 0.    )\n",
      " ([0, 0, 0, 0, 1, 0, 0, 0, 0, 0, 1, 0, 0, 0, 0, 1], -4. ,  2, 0.    )\n",
      " ([0, 0, 0, 1, 1, 0, 0, 0, 0, 0, 1, 0, 0, 0, 0, 1], -4. ,  4, 0.    )\n",
      " ([0, 0, 0, 1, 1, 0, 0, 0, 1, 0, 0, 0, 0, 0, 0, 1], -4. ,  3, 0.    )\n",
      " ([0, 0, 1, 0, 0, 0, 0, 1, 0, 0, 0, 0, 1, 0, 0, 0], -4. ,  1, 0.    )\n",
      " ([0, 0, 0, 0, 0, 0, 0, 1, 0, 1, 0, 0, 1, 0, 0, 0], -4. ,  2, 0.    )\n",
      " ([1, 0, 0, 0, 0, 1, 0, 0, 0, 0, 0, 1, 0, 0, 0, 0], -4. ,  1, 0.    )\n",
      " ([0, 1, 0, 0, 1, 0, 0, 0, 0, 0, 0, 0, 0, 0, 0, 1], -4. ,  2, 0.    )\n",
      " ([1, 0, 0, 0, 0, 0, 0, 1, 0, 0, 0, 0, 0, 0, 1, 0], -4. ,  1, 0.    )\n",
      " ([0, 1, 0, 0, 0, 0, 0, 0, 1, 0, 0, 0, 0, 0, 0, 1], -4. ,  1, 0.    )\n",
      " ([1, 0, 0, 0, 0, 0, 0, 1, 0, 1, 0, 0, 0, 0, 0, 0], -4. ,  1, 0.    )\n",
      " ([0, 0, 0, 0, 0, 0, 1, 0, 1, 0, 0, 0, 0, 0, 0, 1], -4. ,  3, 0.    )\n",
      " ([0, 1, 0, 0, 1, 0, 0, 0, 1, 0, 0, 0, 0, 0, 0, 1], -4. ,  2, 0.    )\n",
      " ([0, 0, 0, 0, 0, 1, 0, 0, 0, 0, 0, 1, 1, 0, 0, 0], -4. ,  1, 0.    )\n",
      " ([0, 0, 0, 1, 1, 0, 0, 0, 0, 0, 1, 0, 0, 0, 0, 0], -4. ,  1, 0.    )\n",
      " ([1, 0, 0, 0, 0, 0, 0, 0, 0, 0, 0, 1, 1, 0, 0, 0], -3. ,  1, 0.    )\n",
      " ([0, 0, 0, 1, 0, 0, 0, 0, 0, 0, 1, 0, 1, 0, 0, 0], -3. ,  1, 0.    )\n",
      " ([0, 1, 0, 1, 0, 0, 1, 0, 1, 0, 0, 0, 0, 0, 0, 0], -3. ,  1, 0.    )\n",
      " ([0, 0, 1, 0, 0, 0, 0, 0, 0, 1, 0, 1, 1, 0, 0, 0], -3. ,  1, 0.    )\n",
      " ([0, 0, 0, 1, 1, 0, 0, 0, 0, 0, 0, 0, 0, 0, 0, 1], -3. ,  1, 0.    )\n",
      " ([1, 0, 0, 0, 0, 0, 0, 1, 0, 1, 0, 0, 0, 0, 0, 1], -3. ,  2, 0.    )\n",
      " ([0, 1, 0, 0, 1, 0, 1, 0, 1, 0, 0, 0, 0, 0, 0, 1], -3. ,  1, 0.    )\n",
      " ([0, 0, 1, 0, 1, 0, 0, 0, 0, 0, 0, 1, 0, 0, 0, 0], -3. ,  1, 0.    )\n",
      " ([0, 1, 0, 1, 1, 0, 0, 0, 1, 0, 0, 0, 0, 0, 0, 1], -3. ,  2, 0.    )\n",
      " ([0, 1, 0, 1, 1, 0, 0, 0, 0, 0, 1, 0, 0, 0, 0, 1], -3. ,  1, 0.    )\n",
      " ([0, 0, 0, 1, 1, 0, 0, 0, 0, 0, 1, 0, 0, 1, 0, 1], -3. ,  1, 0.    )\n",
      " ([1, 0, 0, 0, 1, 0, 0, 0, 0, 0, 1, 0, 0, 0, 0, 1], -3. ,  2, 0.    )\n",
      " ([0, 0, 0, 0, 1, 0, 0, 0, 1, 0, 0, 0, 0, 0, 0, 1], -3. ,  1, 0.    )\n",
      " ([0, 0, 0, 1, 0, 0, 0, 0, 1, 0, 0, 0, 0, 0, 0, 1], -3. ,  1, 0.    )\n",
      " ([0, 0, 0, 1, 1, 0, 1, 0, 1, 0, 0, 0, 0, 0, 0, 1], -3. ,  1, 0.    )\n",
      " ([0, 0, 0, 1, 1, 0, 0, 0, 0, 1, 0, 0, 0, 0, 0, 0], -2.5,  1, 0.    )\n",
      " ([0, 0, 0, 0, 1, 0, 0, 0, 0, 1, 0, 0, 0, 0, 0, 1], -2.5,  1, 0.    )\n",
      " ([1, 0, 0, 0, 0, 0, 0, 0, 0, 0, 0, 1, 0, 1, 0, 0], -2.5,  1, 0.    )\n",
      " ([0, 0, 0, 1, 1, 0, 0, 0, 0, 1, 0, 0, 0, 0, 0, 1], -2.5,  1, 0.    )\n",
      " ([0, 0, 0, 0, 0, 1, 0, 0, 1, 0, 0, 0, 0, 0, 0, 1], -2.5,  1, 0.    )\n",
      " ([0, 0, 0, 1, 1, 0, 0, 0, 0, 0, 0, 0, 0, 0, 1, 0], -2.5,  1, 0.    )\n",
      " ([0, 1, 0, 0, 1, 0, 1, 0, 1, 0, 0, 0, 0, 0, 0, 1], -3. ,  1, 0.0625)\n",
      " ([0, 0, 0, 1, 0, 0, 0, 0, 1, 0, 0, 0, 1, 0, 0, 0], -2. ,  1, 0.    )\n",
      " ([0, 0, 1, 0, 0, 0, 0, 1, 0, 1, 0, 0, 0, 0, 1, 0], -2. ,  1, 0.    )\n",
      " ([0, 0, 1, 0, 1, 0, 0, 0, 0, 1, 0, 0, 0, 0, 0, 1], -2. ,  1, 0.    )\n",
      " ([0, 0, 1, 0, 0, 1, 0, 0, 0, 1, 0, 0, 1, 0, 0, 0], -2. ,  1, 0.    )\n",
      " ([0, 0, 0, 1, 1, 0, 0, 0, 1, 0, 1, 0, 0, 1, 0, 1], -2. ,  1, 0.    )\n",
      " ([1, 0, 0, 0, 1, 0, 0, 0, 0, 0, 0, 1, 0, 0, 0, 1], -2. ,  1, 0.    )\n",
      " ([1, 0, 1, 0, 0, 0, 0, 1, 0, 1, 0, 0, 0, 0, 1, 0], -2. ,  1, 0.    )\n",
      " ([0, 0, 0, 0, 1, 0, 1, 0, 1, 0, 0, 0, 0, 0, 0, 1], -2. ,  2, 0.    )\n",
      " ([0, 0, 0, 1, 0, 0, 1, 0, 1, 0, 0, 0, 0, 0, 1, 0], -1.5,  1, 0.    )\n",
      " ([0, 0, 1, 0, 1, 0, 0, 0, 0, 0, 0, 1, 0, 0, 0, 1], -1.5,  1, 0.    )\n",
      " ([0, 1, 0, 0, 0, 1, 0, 0, 1, 0, 0, 0, 0, 0, 0, 1], -1.5,  1, 0.    )\n",
      " ([0, 0, 0, 1, 0, 0, 1, 0, 1, 0, 0, 0, 0, 0, 0, 1], -4. ,  1, 0.0625)\n",
      " ([0, 0, 0, 1, 0, 0, 0, 0, 1, 0, 1, 0, 0, 1, 0, 1], -1. ,  1, 0.    )\n",
      " ([0, 0, 1, 0, 0, 0, 0, 0, 1, 0, 0, 0, 0, 0, 1, 0], -1. ,  1, 0.    )\n",
      " ([1, 1, 0, 0, 0, 0, 0, 1, 0, 0, 0, 0, 0, 0, 0, 0], -0.5,  1, 0.    )\n",
      " ([0, 1, 0, 0, 1, 0, 0, 0, 1, 0, 0, 0, 0, 0, 1, 1],  0. ,  1, 0.    )\n",
      " ([0, 1, 0, 1, 1, 0, 0, 0, 1, 0, 1, 0, 1, 0, 0, 1],  4.5,  1, 0.    )\n",
      " ([0, 0, 0, 0, 1, 1, 0, 0, 1, 0, 0, 0, 0, 0, 0, 0],  4. ,  1, 0.0625)]\n"
     ]
    }
   ],
   "source": [
    "print(response.record)"
   ]
  },
  {
   "cell_type": "markdown",
   "id": "94e344a0",
   "metadata": {},
   "source": [
    "========================================================================================================================"
   ]
  },
  {
   "cell_type": "code",
   "execution_count": 45,
   "id": "0c0f83bf",
   "metadata": {},
   "outputs": [],
   "source": [
    "import pickle\n",
    "import os\n",
    "fname = 'test2.pkl'\n",
    "with open(fname, 'wb') as file:\n",
    "    pickle.dump(response.to_serializable(), file)"
   ]
  },
  {
   "cell_type": "code",
   "execution_count": 46,
   "id": "ef9b33b6",
   "metadata": {},
   "outputs": [
    {
     "data": {
      "text/plain": [
       "3124"
      ]
     },
     "execution_count": 46,
     "metadata": {},
     "output_type": "execute_result"
    }
   ],
   "source": [
    "os.path.getsize(fname)"
   ]
  },
  {
   "cell_type": "code",
   "execution_count": 47,
   "id": "8fa72aec",
   "metadata": {},
   "outputs": [],
   "source": [
    "with open(fname, 'rb') as file:\n",
    "    loaded = pickle.load(file)"
   ]
  },
  {
   "cell_type": "code",
   "execution_count": 49,
   "id": "68ac5667",
   "metadata": {},
   "outputs": [
    {
     "data": {
      "text/plain": [
       "SampleSet(rec.array([([1, 0, 0, 0, 0, 0, 0, 1, 0, 1, 0, 0, 0, 0, 1, 0], -5. ,  1, 0.    ),\n",
       "           ([0, 0, 0, 1, 0, 0, 1, 0, 1, 0, 0, 0, 0, 1, 0, 0], -5. ,  2, 0.    ),\n",
       "           ([0, 0, 0, 1, 1, 0, 0, 0, 0, 0, 1, 0, 0, 1, 0, 0], -5. ,  3, 0.    ),\n",
       "           ([0, 1, 0, 0, 0, 0, 1, 0, 1, 0, 0, 0, 0, 0, 0, 1], -5. ,  4, 0.    ),\n",
       "           ([0, 1, 0, 0, 1, 0, 0, 0, 0, 0, 1, 0, 0, 0, 0, 1], -5. , 12, 0.    ),\n",
       "           ([0, 0, 1, 0, 0, 0, 0, 1, 0, 1, 0, 0, 1, 0, 0, 0], -5. ,  4, 0.    ),\n",
       "           ([1, 0, 0, 0, 0, 1, 0, 0, 0, 0, 0, 1, 0, 0, 1, 0], -5. ,  4, 0.    ),\n",
       "           ([0, 0, 0, 1, 1, 0, 0, 0, 1, 0, 0, 0, 0, 1, 0, 0], -4. ,  1, 0.    ),\n",
       "           ([0, 0, 0, 0, 1, 0, 0, 0, 0, 0, 1, 0, 0, 0, 0, 1], -4. ,  2, 0.    ),\n",
       "           ([0, 0, 0, 1, 1, 0, 0, 0, 0, 0, 1, 0, 0, 0, 0, 1], -4. ,  4, 0.    ),\n",
       "           ([0, 0, 0, 1, 1, 0, 0, 0, 1, 0, 0, 0, 0, 0, 0, 1], -4. ,  3, 0.    ),\n",
       "           ([0, 0, 1, 0, 0, 0, 0, 1, 0, 0, 0, 0, 1, 0, 0, 0], -4. ,  1, 0.    ),\n",
       "           ([0, 0, 0, 0, 0, 0, 0, 1, 0, 1, 0, 0, 1, 0, 0, 0], -4. ,  2, 0.    ),\n",
       "           ([1, 0, 0, 0, 0, 1, 0, 0, 0, 0, 0, 1, 0, 0, 0, 0], -4. ,  1, 0.    ),\n",
       "           ([0, 1, 0, 0, 1, 0, 0, 0, 0, 0, 0, 0, 0, 0, 0, 1], -4. ,  2, 0.    ),\n",
       "           ([1, 0, 0, 0, 0, 0, 0, 1, 0, 0, 0, 0, 0, 0, 1, 0], -4. ,  1, 0.    ),\n",
       "           ([0, 1, 0, 0, 0, 0, 0, 0, 1, 0, 0, 0, 0, 0, 0, 1], -4. ,  1, 0.    ),\n",
       "           ([1, 0, 0, 0, 0, 0, 0, 1, 0, 1, 0, 0, 0, 0, 0, 0], -4. ,  1, 0.    ),\n",
       "           ([0, 0, 0, 0, 0, 0, 1, 0, 1, 0, 0, 0, 0, 0, 0, 1], -4. ,  3, 0.    ),\n",
       "           ([0, 1, 0, 0, 1, 0, 0, 0, 1, 0, 0, 0, 0, 0, 0, 1], -4. ,  2, 0.    ),\n",
       "           ([0, 0, 0, 0, 0, 1, 0, 0, 0, 0, 0, 1, 1, 0, 0, 0], -4. ,  1, 0.    ),\n",
       "           ([0, 0, 0, 1, 1, 0, 0, 0, 0, 0, 1, 0, 0, 0, 0, 0], -4. ,  1, 0.    ),\n",
       "           ([1, 0, 0, 0, 0, 0, 0, 0, 0, 0, 0, 1, 1, 0, 0, 0], -3. ,  1, 0.    ),\n",
       "           ([0, 0, 0, 1, 0, 0, 0, 0, 0, 0, 1, 0, 1, 0, 0, 0], -3. ,  1, 0.    ),\n",
       "           ([0, 1, 0, 1, 0, 0, 1, 0, 1, 0, 0, 0, 0, 0, 0, 0], -3. ,  1, 0.    ),\n",
       "           ([0, 0, 1, 0, 0, 0, 0, 0, 0, 1, 0, 1, 1, 0, 0, 0], -3. ,  1, 0.    ),\n",
       "           ([0, 0, 0, 1, 1, 0, 0, 0, 0, 0, 0, 0, 0, 0, 0, 1], -3. ,  1, 0.    ),\n",
       "           ([1, 0, 0, 0, 0, 0, 0, 1, 0, 1, 0, 0, 0, 0, 0, 1], -3. ,  2, 0.    ),\n",
       "           ([0, 1, 0, 0, 1, 0, 1, 0, 1, 0, 0, 0, 0, 0, 0, 1], -3. ,  1, 0.    ),\n",
       "           ([0, 0, 1, 0, 1, 0, 0, 0, 0, 0, 0, 1, 0, 0, 0, 0], -3. ,  1, 0.    ),\n",
       "           ([0, 1, 0, 1, 1, 0, 0, 0, 1, 0, 0, 0, 0, 0, 0, 1], -3. ,  2, 0.    ),\n",
       "           ([0, 1, 0, 1, 1, 0, 0, 0, 0, 0, 1, 0, 0, 0, 0, 1], -3. ,  1, 0.    ),\n",
       "           ([0, 0, 0, 1, 1, 0, 0, 0, 0, 0, 1, 0, 0, 1, 0, 1], -3. ,  1, 0.    ),\n",
       "           ([1, 0, 0, 0, 1, 0, 0, 0, 0, 0, 1, 0, 0, 0, 0, 1], -3. ,  2, 0.    ),\n",
       "           ([0, 0, 0, 0, 1, 0, 0, 0, 1, 0, 0, 0, 0, 0, 0, 1], -3. ,  1, 0.    ),\n",
       "           ([0, 0, 0, 1, 0, 0, 0, 0, 1, 0, 0, 0, 0, 0, 0, 1], -3. ,  1, 0.    ),\n",
       "           ([0, 0, 0, 1, 1, 0, 1, 0, 1, 0, 0, 0, 0, 0, 0, 1], -3. ,  1, 0.    ),\n",
       "           ([0, 0, 0, 1, 1, 0, 0, 0, 0, 1, 0, 0, 0, 0, 0, 0], -2.5,  1, 0.    ),\n",
       "           ([0, 0, 0, 0, 1, 0, 0, 0, 0, 1, 0, 0, 0, 0, 0, 1], -2.5,  1, 0.    ),\n",
       "           ([1, 0, 0, 0, 0, 0, 0, 0, 0, 0, 0, 1, 0, 1, 0, 0], -2.5,  1, 0.    ),\n",
       "           ([0, 0, 0, 1, 1, 0, 0, 0, 0, 1, 0, 0, 0, 0, 0, 1], -2.5,  1, 0.    ),\n",
       "           ([0, 0, 0, 0, 0, 1, 0, 0, 1, 0, 0, 0, 0, 0, 0, 1], -2.5,  1, 0.    ),\n",
       "           ([0, 0, 0, 1, 1, 0, 0, 0, 0, 0, 0, 0, 0, 0, 1, 0], -2.5,  1, 0.    ),\n",
       "           ([0, 1, 0, 0, 1, 0, 1, 0, 1, 0, 0, 0, 0, 0, 0, 1], -3. ,  1, 0.0625),\n",
       "           ([0, 0, 0, 1, 0, 0, 0, 0, 1, 0, 0, 0, 1, 0, 0, 0], -2. ,  1, 0.    ),\n",
       "           ([0, 0, 1, 0, 0, 0, 0, 1, 0, 1, 0, 0, 0, 0, 1, 0], -2. ,  1, 0.    ),\n",
       "           ([0, 0, 1, 0, 1, 0, 0, 0, 0, 1, 0, 0, 0, 0, 0, 1], -2. ,  1, 0.    ),\n",
       "           ([0, 0, 1, 0, 0, 1, 0, 0, 0, 1, 0, 0, 1, 0, 0, 0], -2. ,  1, 0.    ),\n",
       "           ([0, 0, 0, 1, 1, 0, 0, 0, 1, 0, 1, 0, 0, 1, 0, 1], -2. ,  1, 0.    ),\n",
       "           ([1, 0, 0, 0, 1, 0, 0, 0, 0, 0, 0, 1, 0, 0, 0, 1], -2. ,  1, 0.    ),\n",
       "           ([1, 0, 1, 0, 0, 0, 0, 1, 0, 1, 0, 0, 0, 0, 1, 0], -2. ,  1, 0.    ),\n",
       "           ([0, 0, 0, 0, 1, 0, 1, 0, 1, 0, 0, 0, 0, 0, 0, 1], -2. ,  2, 0.    ),\n",
       "           ([0, 0, 0, 1, 0, 0, 1, 0, 1, 0, 0, 0, 0, 0, 1, 0], -1.5,  1, 0.    ),\n",
       "           ([0, 0, 1, 0, 1, 0, 0, 0, 0, 0, 0, 1, 0, 0, 0, 1], -1.5,  1, 0.    ),\n",
       "           ([0, 1, 0, 0, 0, 1, 0, 0, 1, 0, 0, 0, 0, 0, 0, 1], -1.5,  1, 0.    ),\n",
       "           ([0, 0, 0, 1, 0, 0, 1, 0, 1, 0, 0, 0, 0, 0, 0, 1], -4. ,  1, 0.0625),\n",
       "           ([0, 0, 0, 1, 0, 0, 0, 0, 1, 0, 1, 0, 0, 1, 0, 1], -1. ,  1, 0.    ),\n",
       "           ([0, 0, 1, 0, 0, 0, 0, 0, 1, 0, 0, 0, 0, 0, 1, 0], -1. ,  1, 0.    ),\n",
       "           ([1, 1, 0, 0, 0, 0, 0, 1, 0, 0, 0, 0, 0, 0, 0, 0], -0.5,  1, 0.    ),\n",
       "           ([0, 1, 0, 0, 1, 0, 0, 0, 1, 0, 0, 0, 0, 0, 1, 1],  0. ,  1, 0.    ),\n",
       "           ([0, 1, 0, 1, 1, 0, 0, 0, 1, 0, 1, 0, 1, 0, 0, 1],  4.5,  1, 0.    ),\n",
       "           ([0, 0, 0, 0, 1, 1, 0, 0, 1, 0, 0, 0, 0, 0, 0, 0],  4. ,  1, 0.0625)],\n",
       "          dtype=[('sample', 'i1', (16,)), ('energy', '<f8'), ('num_occurrences', '<i4'), ('chain_break_fraction', '<f8')]), Variables(range(0, 16)), {'timing': {'qpu_sampling_time': 29294.0, 'qpu_anneal_time_per_sample': 200.0, 'qpu_readout_time_per_sample': 72.4, 'qpu_access_time': 44356.36, 'qpu_access_overhead_time': 2087.64, 'qpu_programming_time': 15062.36, 'qpu_delay_time_per_sample': 20.54, 'post_processing_overhead_time': 3679.0, 'total_post_processing_time': 3679.0}, 'problem_id': '7baf1a48-23d2-4de8-a3d2-4454ff7b8648', 'problem_label': 'Protein Folding (QUBO)', 'embedding_context': {'embedding': {7: [5082, 2426], 0: [2231, 5081], 11: [5097, 5096], 3: [2276, 5021], 4: [5067, 5066], 15: [2292, 2291], 8: [5127, 2336], 12: [5186, 2261], 1: [2322, 5142], 5: [5247, 2307, 2306], 9: [2246, 5157], 13: [2217, 5201], 2: [2202, 5112], 6: [2367, 2366], 10: [2352], 14: [5172, 5171]}, 'chain_break_method': 'majority_vote', 'embedding_parameters': {}, 'chain_strength': 2.8}, 'warnings': [{'type': <class 'dwave.system.warnings.ChainStrengthWarning'>, 'message': 'Some quadratic biases are stronger than the given chain strength', 'level': 30, 'data': {'source_interactions': [[1, 0], [5, 4], [9, 8], [13, 12], [2, 3], [2, 1], [6, 7], [6, 5], [10, 11], [10, 9], [14, 15], [14, 13]]}}]}, 'BINARY')"
      ]
     },
     "execution_count": 49,
     "metadata": {},
     "output_type": "execute_result"
    }
   ],
   "source": [
    "dimod.SampleSet.from_serializable(loaded)"
   ]
  },
  {
   "cell_type": "markdown",
   "id": "37a0a188",
   "metadata": {},
   "source": [
    "========================================================================================================================"
   ]
  },
  {
   "cell_type": "code",
   "execution_count": 8,
   "id": "9cb44c89",
   "metadata": {},
   "outputs": [
    {
     "name": "stdout",
     "output_type": "stream",
     "text": [
      "[[2. 3.]\n",
      " [1. 4.]]\n",
      "[[2. 3. 0.]\n",
      " [1. 4. 0.]\n",
      " [6. 5. 0.]]\n",
      "[[6. 5. 4.]\n",
      " [7. 2. 3.]\n",
      " [0. 1. 0.]]\n",
      "[[2. 3. 4.]\n",
      " [1. 8. 5.]\n",
      " [0. 7. 6.]]\n",
      "[[3. 4. 0. 0.]\n",
      " [2. 5. 6. 0.]\n",
      " [1. 8. 7. 0.]\n",
      " [0. 9. 0. 0.]]\n",
      "[[ 0.  5.  6.  0.]\n",
      " [ 3.  4.  7.  8.]\n",
      " [ 2.  1. 10.  9.]\n",
      " [ 0.  0.  0.  0.]]\n",
      "[[ 0.  9. 10. 11.]\n",
      " [ 7.  8. 13. 12.]\n",
      " [ 6.  5. 14.  1.]\n",
      " [ 0.  4.  3.  2.]]\n",
      "[0.0, 1.0, 0.0, 0.0, 0.0, 0.0, 1.0, 0.0, 1.0, 0.0, 0.0, 0.0, 0.0, 0.0, 0.0, 1.0]\n"
     ]
    }
   ],
   "source": [
    "import sequences\n",
    "importlib.reload(sequences)\n",
    "S = sequences.structures\n",
    "def z(structure, L):\n",
    "    Ls = L**2\n",
    "    N = len(structure)\n",
    "    D = Ls * N\n",
    "    x = np.zeros((D))\n",
    "    for f, s in enumerate(structure):\n",
    "        x[s * N + f] = 1\n",
    "    return x\n",
    "d = draw_grid.draw_grid_binary\n",
    "d(z(S[0], 2), 2, 4)\n",
    "d(z(S[1], 3), 3, 6)\n",
    "d(z(S[2], 3), 3, 7)\n",
    "d(z(S[3], 3), 3, 8)\n",
    "d(z(S[4], 4), 4, 9)\n",
    "d(z(S[5], 4), 4, 10)\n",
    "d(z(S[6], 4), 4, 14)\n",
    "print(list(z(S[0], 2)))"
   ]
  },
  {
   "cell_type": "code",
   "execution_count": 9,
   "id": "ec1f7af7",
   "metadata": {},
   "outputs": [
    {
     "name": "stdout",
     "output_type": "stream",
     "text": [
      "Energy Reached: -5.0\n",
      "Number of records: 1\n",
      "Number of solutions: 1\n",
      "   0  1  2  3  4  5  6  7  8  9 10 11 12 13 14 15 energy num_oc.\n",
      "0  0  1  0  0  0  0  1  0  1  0  0  0  0  0  0  1   -5.0       1\n",
      "['BINARY', 1 rows, 1 samples, 16 variables]\n",
      "Sample(sample={0: 0.0, 1: 1.0, 2: 0.0, 3: 0.0, 4: 0.0, 5: 0.0, 6: 1.0, 7: 0.0, 8: 1.0, 9: 0.0, 10: 0.0, 11: 0.0, 12: 0.0, 13: 0.0, 14: 0.0, 15: 1.0}, energy=-5.0, num_occurrences=1)\n"
     ]
    }
   ],
   "source": [
    "response2 = dimod.IdentitySampler().sample_qubo(Q, initial_states=[0.0, 1.0, 0.0, 0.0, 0.0, 0.0, 1.0, 0.0, 1.0, 0.0, 0.0, 0.0, 0.0, 0.0, 0.0, 1.0])\n",
    "print(\"Energy Reached:\", response2.first.energy)\n",
    "print(f\"Number of records: {len(response2.record)}\")\n",
    "solutions = response2.lowest()\n",
    "print(f'Number of solutions: {len(solutions)}')\n",
    "print(response2.slice(0, 10))\n",
    "print(response2.first)"
   ]
  },
  {
   "cell_type": "code",
   "execution_count": null,
   "id": "4cb8c42e",
   "metadata": {},
   "outputs": [],
   "source": []
  }
 ],
 "metadata": {
  "kernelspec": {
   "display_name": "Python 3 (ipykernel)",
   "language": "python",
   "name": "python3"
  },
  "language_info": {
   "codemirror_mode": {
    "name": "ipython",
    "version": 3
   },
   "file_extension": ".py",
   "mimetype": "text/x-python",
   "name": "python",
   "nbconvert_exporter": "python",
   "pygments_lexer": "ipython3",
   "version": "3.9.5"
  }
 },
 "nbformat": 4,
 "nbformat_minor": 5
}
