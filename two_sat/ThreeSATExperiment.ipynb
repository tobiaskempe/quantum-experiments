{
 "cells": [
  {
   "cell_type": "code",
   "execution_count": null,
   "id": "9698e98e",
   "metadata": {},
   "outputs": [],
   "source": [
    "\n",
    "\n",
    "# defines the 2SAT instance\n",
    "#v = np.array([\n",
    "  #[1, -1, -1, 1],\n",
    "  #[-1, 1, -1, 0],\n",
    "  #[0, 0, 0, 1],\n",
    "#])\n",
    "\n",
    "\n",
    "\n",
    "#response = dimod.ExactSolver().sample_ising(h, J)\n",
    "\n",
    "#print(response.first)\n",
    "#print(response.info)\n",
    "#print(response.record)\n",
    "#print(response.variables)\n",
    "#print(response.vartype)\n",
    "\n",
    "#print(response.aggregate())\n",
    "#print(response.lowest())\n",
    "#print(response.done())"
   ]
  },
  {
   "cell_type": "code",
   "execution_count": 161,
   "id": "c1ec818b",
   "metadata": {},
   "outputs": [],
   "source": [
    "from collections import defaultdict\n",
    "import dwave.inspector\n",
    "from dwave.system.samplers import DWaveSampler\n",
    "from dwave.system.composites import EmbeddingComposite\n",
    "import numpy as np\n",
    "import dimod\n",
    "import matplotlib.pyplot as plt"
   ]
  },
  {
   "cell_type": "code",
   "execution_count": 162,
   "id": "6096196a",
   "metadata": {},
   "outputs": [],
   "source": [
    "def generate_k_sat(k, n_vars, n_clauses):\n",
    "    v = np.zeros((n_vars, n_clauses))\n",
    "    for i in range(n_clauses):\n",
    "        l = list(range(n_vars))\n",
    "        sel = np.random.choice(l, size=k, replace=False)\n",
    "        b = np.random.choice([-1, +1], size=k, replace=True)\n",
    "        v[sel, i] = b\n",
    "    return v"
   ]
  },
  {
   "cell_type": "code",
   "execution_count": 179,
   "id": "cacb57d3",
   "metadata": {},
   "outputs": [
    {
     "ename": "KeyboardInterrupt",
     "evalue": "",
     "output_type": "error",
     "traceback": [
      "\u001b[1;31m---------------------------------------------------------------------------\u001b[0m",
      "\u001b[1;31mKeyboardInterrupt\u001b[0m                         Traceback (most recent call last)",
      "Input \u001b[1;32mIn [179]\u001b[0m, in \u001b[0;36m<cell line: 57>\u001b[1;34m()\u001b[0m\n\u001b[0;32m     53\u001b[0m             acb_fractions[alpha_i, instance] \u001b[38;5;241m=\u001b[39m average_chain_break_fraction\n\u001b[0;32m     55\u001b[0m     \u001b[38;5;28;01mreturn\u001b[39;00m responses, satisfiables, acb_fractions\n\u001b[1;32m---> 57\u001b[0m responses, satisfiables, acb_fractions \u001b[38;5;241m=\u001b[39m \u001b[43mperform_experiment\u001b[49m\u001b[43m(\u001b[49m\u001b[43malphas\u001b[49m\u001b[43m)\u001b[49m\n\u001b[0;32m     59\u001b[0m acb_fractions_averaged \u001b[38;5;241m=\u001b[39m np\u001b[38;5;241m.\u001b[39mmean(acb_fractions, axis\u001b[38;5;241m=\u001b[39m\u001b[38;5;241m1\u001b[39m)\n\u001b[0;32m     61\u001b[0m plt\u001b[38;5;241m.\u001b[39mfigure()\n",
      "Input \u001b[1;32mIn [179]\u001b[0m, in \u001b[0;36mperform_experiment\u001b[1;34m(alphas)\u001b[0m\n\u001b[0;32m     30\u001b[0m chain_strength \u001b[38;5;241m=\u001b[39m max_coupler \u001b[38;5;241m*\u001b[39m relative_chain_strength\n\u001b[0;32m     32\u001b[0m \u001b[38;5;66;03m#sampler = EmbeddingComposite(DWaveSampler())\u001b[39;00m\n\u001b[0;32m     33\u001b[0m \u001b[38;5;66;03m#response = sampler.sample_ising(\u001b[39;00m\n\u001b[0;32m     34\u001b[0m \u001b[38;5;66;03m#  h,\u001b[39;00m\n\u001b[1;32m   (...)\u001b[0m\n\u001b[0;32m     38\u001b[0m \u001b[38;5;66;03m#  label=f'3-SAT phase transition (experiment)',\u001b[39;00m\n\u001b[0;32m     39\u001b[0m \u001b[38;5;66;03m#)\u001b[39;00m\n\u001b[1;32m---> 41\u001b[0m response \u001b[38;5;241m=\u001b[39m \u001b[43mdimod\u001b[49m\u001b[38;5;241;43m.\u001b[39;49m\u001b[43mExactSolver\u001b[49m\u001b[43m(\u001b[49m\u001b[43m)\u001b[49m\u001b[38;5;241;43m.\u001b[39;49m\u001b[43msample_ising\u001b[49m\u001b[43m(\u001b[49m\u001b[43mh\u001b[49m\u001b[43m,\u001b[49m\u001b[43m \u001b[49m\u001b[43mJ\u001b[49m\u001b[43m)\u001b[49m\n\u001b[0;32m     43\u001b[0m solution \u001b[38;5;241m=\u001b[39m np\u001b[38;5;241m.\u001b[39marray(\u001b[38;5;28mlist\u001b[39m(response\u001b[38;5;241m.\u001b[39mfirst\u001b[38;5;241m.\u001b[39msample\u001b[38;5;241m.\u001b[39mvalues()))\n\u001b[0;32m     44\u001b[0m boolean_expressions \u001b[38;5;241m=\u001b[39m v \u001b[38;5;241m*\u001b[39m solution[:, np\u001b[38;5;241m.\u001b[39mnewaxis]\n",
      "File \u001b[1;32mc:\\users\\tkemp\\ocean\\lib\\site-packages\\dimod\\core\\sampler.py:266\u001b[0m, in \u001b[0;36mSampler.sample_ising\u001b[1;34m(self, h, J, **parameters)\u001b[0m\n\u001b[0;32m    243\u001b[0m \u001b[38;5;124;03m\"\"\"Sample from an Ising model using the implemented sample method.\u001b[39;00m\n\u001b[0;32m    244\u001b[0m \n\u001b[0;32m    245\u001b[0m \u001b[38;5;124;03mThis method is inherited from the :class:`.Sampler` base class.\u001b[39;00m\n\u001b[1;32m   (...)\u001b[0m\n\u001b[0;32m    263\u001b[0m \n\u001b[0;32m    264\u001b[0m \u001b[38;5;124;03m\"\"\"\u001b[39;00m\n\u001b[0;32m    265\u001b[0m bqm \u001b[38;5;241m=\u001b[39m BinaryQuadraticModel\u001b[38;5;241m.\u001b[39mfrom_ising(h, J)\n\u001b[1;32m--> 266\u001b[0m \u001b[38;5;28;01mreturn\u001b[39;00m \u001b[38;5;28mself\u001b[39m\u001b[38;5;241m.\u001b[39msample(bqm, \u001b[38;5;241m*\u001b[39m\u001b[38;5;241m*\u001b[39mparameters)\n",
      "File \u001b[1;32mc:\\users\\tkemp\\ocean\\lib\\site-packages\\dimod\\reference\\samplers\\exact_solver.py:83\u001b[0m, in \u001b[0;36mExactSolver.sample\u001b[1;34m(self, bqm, **kwargs)\u001b[0m\n\u001b[0;32m     80\u001b[0m \u001b[38;5;28;01mif\u001b[39;00m \u001b[38;5;129;01mnot\u001b[39;00m \u001b[38;5;28mlen\u001b[39m(bqm\u001b[38;5;241m.\u001b[39mvariables):\n\u001b[0;32m     81\u001b[0m     \u001b[38;5;28;01mreturn\u001b[39;00m SampleSet\u001b[38;5;241m.\u001b[39mfrom_samples([], bqm\u001b[38;5;241m.\u001b[39mvartype, energy\u001b[38;5;241m=\u001b[39m[])\n\u001b[1;32m---> 83\u001b[0m samples \u001b[38;5;241m=\u001b[39m \u001b[43m_graycode\u001b[49m\u001b[43m(\u001b[49m\u001b[43mbqm\u001b[49m\u001b[43m)\u001b[49m\n\u001b[0;32m     85\u001b[0m \u001b[38;5;28;01mif\u001b[39;00m bqm\u001b[38;5;241m.\u001b[39mvartype \u001b[38;5;129;01mis\u001b[39;00m Vartype\u001b[38;5;241m.\u001b[39mSPIN:\n\u001b[0;32m     86\u001b[0m     samples \u001b[38;5;241m=\u001b[39m \u001b[38;5;241m2\u001b[39m\u001b[38;5;241m*\u001b[39msamples \u001b[38;5;241m-\u001b[39m \u001b[38;5;241m1\u001b[39m\n",
      "File \u001b[1;32mc:\\users\\tkemp\\ocean\\lib\\site-packages\\dimod\\reference\\samplers\\exact_solver.py:261\u001b[0m, in \u001b[0;36m_graycode\u001b[1;34m(bqm)\u001b[0m\n\u001b[0;32m    259\u001b[0m \u001b[38;5;28;01mfor\u001b[39;00m i \u001b[38;5;129;01min\u001b[39;00m \u001b[38;5;28mrange\u001b[39m(\u001b[38;5;241m1\u001b[39m, ns):\n\u001b[0;32m    260\u001b[0m     v \u001b[38;5;241m=\u001b[39m (i \u001b[38;5;241m&\u001b[39m \u001b[38;5;241m-\u001b[39mi)\u001b[38;5;241m.\u001b[39mbit_length() \u001b[38;5;241m-\u001b[39m \u001b[38;5;241m1\u001b[39m  \u001b[38;5;66;03m# the least significant set bit of i\u001b[39;00m\n\u001b[1;32m--> 261\u001b[0m     \u001b[43msamples\u001b[49m\u001b[43m[\u001b[49m\u001b[43mi\u001b[49m\u001b[43m,\u001b[49m\u001b[43m \u001b[49m\u001b[43m:\u001b[49m\u001b[43m]\u001b[49m \u001b[38;5;241m=\u001b[39m samples[i \u001b[38;5;241m-\u001b[39m \u001b[38;5;241m1\u001b[39m, :]\n\u001b[0;32m    262\u001b[0m     samples[i, v] \u001b[38;5;241m=\u001b[39m \u001b[38;5;129;01mnot\u001b[39;00m samples[i \u001b[38;5;241m-\u001b[39m \u001b[38;5;241m1\u001b[39m, v]\n\u001b[0;32m    264\u001b[0m \u001b[38;5;28;01mreturn\u001b[39;00m samples\n",
      "\u001b[1;31mKeyboardInterrupt\u001b[0m: "
     ]
    }
   ],
   "source": [
    "#alphas = [3, 3.5, 4, 4.5, 5, 5.5, 6]\n",
    "alphas = [2, 2.5, 3, 3.5, 4, 4.5, 5, 5.5, 6, 6.5, 7]\n",
    "\n",
    "def perform_experiment(alphas):\n",
    "    n_alphas = len(alphas)\n",
    "    n_instances = 500\n",
    "    n_vars = 10\n",
    "    n_runs = 100\n",
    "    responses = np.empty((n_alphas, n_instances), dtype=dimod.SampleSet)\n",
    "    satisfiables = np.empty((n_alphas, n_instances), dtype=bool)\n",
    "    acb_fractions = np.empty((n_alphas, n_instances), dtype=float)\n",
    "    for alpha_i, alpha in enumerate(alphas):\n",
    "        for instance in range(n_instances):\n",
    "            v = generate_k_sat(3, n_vars, int(n_vars * alpha))\n",
    "            h = defaultdict(int)\n",
    "            J = defaultdict(int)\n",
    "\n",
    "            for (j, occs) in enumerate(v):\n",
    "              h[j] = - np.sum(occs)\n",
    "\n",
    "            #n_vars = len(v)\n",
    "            for i in range(n_vars):\n",
    "              for j in range(n_vars):\n",
    "                if i < j:\n",
    "                  J[(i, j)] = np.sum(v[i] * v[j])\n",
    "\n",
    "            max_coupler = max(np.abs(np.array(list(J.values()))))\n",
    "            \n",
    "            relative_chain_strength = 1.3\n",
    "            chain_strength = max_coupler * relative_chain_strength\n",
    "\n",
    "            #sampler = EmbeddingComposite(DWaveSampler())\n",
    "            #response = sampler.sample_ising(\n",
    "            #  h,\n",
    "            #  J,\n",
    "            #  chain_strength=chain_strength,\n",
    "            #  num_reads=n_runs,\n",
    "            #  label=f'3-SAT phase transition (experiment)',\n",
    "            #)\n",
    "            \n",
    "            response = dimod.ExactSolver().sample_ising(h, J)\n",
    "            \n",
    "            solution = np.array(list(response.first.sample.values()))\n",
    "            boolean_expressions = v * solution[:, np.newaxis]\n",
    "            boolean_clauses = np.any(boolean_expressions == 1, axis=0)\n",
    "            all_clauses_fulfilled = np.all(boolean_clauses)\n",
    "            \n",
    "            #average_chain_break_fraction = np.mean(response.record.chain_break_fraction)\n",
    "            average_chain_break_fraction = float(np.sum(boolean_clauses)) / len(boolean_clauses)\n",
    "            \n",
    "            responses[alpha_i, instance] = response\n",
    "            satisfiables[alpha_i, instance] = all_clauses_fulfilled\n",
    "            acb_fractions[alpha_i, instance] = average_chain_break_fraction\n",
    "    \n",
    "    return responses, satisfiables, acb_fractions\n",
    "\n",
    "responses, satisfiables, acb_fractions = perform_experiment(alphas)\n",
    "\n",
    "acb_fractions_averaged = np.mean(acb_fractions, axis=1)\n",
    "\n",
    "plt.figure()\n",
    "plt.plot(alphas, acb_fractions_averaged)\n",
    "plt.show()\n",
    "\n",
    "plt.figure()\n",
    "plt.plot(alphas, np.sum(satisfiables, axis=1) / satisfiables.shape[1])\n",
    "plt.show()"
   ]
  },
  {
   "cell_type": "code",
   "execution_count": 150,
   "id": "27f26f64",
   "metadata": {},
   "outputs": [],
   "source": [
    "v = generate_k_sat(3, 25, 75)"
   ]
  },
  {
   "cell_type": "code",
   "execution_count": 151,
   "id": "10ad5381",
   "metadata": {},
   "outputs": [
    {
     "name": "stdout",
     "output_type": "stream",
     "text": [
      "alpha = 3.0\n"
     ]
    }
   ],
   "source": [
    "print(f'alpha = {round(v.shape[1] / v.shape[0], 2)}')\n",
    "\n",
    "# verifies that only 2-clauses exist!\n",
    "for x in np.sum(np.abs(v), axis=0):\n",
    "  if x != 3:\n",
    "    print(\"expression may only contain 3-clauses\")\n",
    "    raise Exception"
   ]
  },
  {
   "cell_type": "code",
   "execution_count": 152,
   "id": "7983b015",
   "metadata": {},
   "outputs": [
    {
     "data": {
      "text/plain": [
       "3.0"
      ]
     },
     "execution_count": 152,
     "metadata": {},
     "output_type": "execute_result"
    }
   ],
   "source": [
    "h = defaultdict(int)\n",
    "J = defaultdict(int)\n",
    "\n",
    "for (j, occs) in enumerate(v):\n",
    "  h[j] = - np.sum(occs)\n",
    "\n",
    "n_vars = len(v)\n",
    "for i in range(n_vars):\n",
    "  for j in range(n_vars):\n",
    "    if i < j:\n",
    "      J[(i, j)] = np.sum(v[i] * v[j])\n",
    "\n",
    "max_coupler = max(np.abs(np.array(list(J.values()))))\n",
    "max_coupler"
   ]
  },
  {
   "cell_type": "code",
   "execution_count": 153,
   "id": "8af5a2c7",
   "metadata": {},
   "outputs": [
    {
     "name": "stdout",
     "output_type": "stream",
     "text": [
      "[12 10  8  9 14 11 17 12 12 10  8 13  7 11 10 12  6  8  9  6 17 10 13 10\n",
      " 13]\n",
      "10.72\n"
     ]
    },
    {
     "data": {
      "image/png": "[encoded data removed]",
      "text/plain": [
       "<Figure size 432x288 with 1 Axes>"
      ]
     },
     "metadata": {
      "needs_background": "light"
     },
     "output_type": "display_data"
    },
    {
     "data": {
      "text/plain": [
       "(array([12, 10,  8,  9, 14, 11, 17, 12, 12, 10,  8, 13,  7, 11, 10, 12,  6,\n",
       "         8,  9,  6, 17, 10, 13, 10, 13], dtype=int16),\n",
       " 10.72)"
      ]
     },
     "execution_count": 153,
     "metadata": {},
     "output_type": "execute_result"
    }
   ],
   "source": [
    "ac_ising(h, J)"
   ]
  },
  {
   "cell_type": "code",
   "execution_count": 154,
   "id": "bcb73b03",
   "metadata": {},
   "outputs": [
    {
     "name": "stdout",
     "output_type": "stream",
     "text": [
      "chain_strength: 3.9000000000000004\n",
      "   0  1  2  3  4  5  6  7  8  9 10 11 12 13 14 15 16 ... 24 energy num_oc. ...\n",
      "0 -1 +1 +1 -1 -1 -1 +1 -1 +1 -1 +1 +1 -1 -1 +1 -1 +1 ... +1  -76.0       1 ...\n",
      "2 -1 -1 -1 -1 -1 -1 +1 +1 +1 +1 +1 +1 -1 -1 -1 -1 +1 ... -1  -74.0       1 ...\n",
      "1 -1 -1 -1 +1 +1 -1 +1 +1 -1 +1 +1 -1 -1 +1 -1 -1 -1 ... -1  -72.0       1 ...\n",
      "3 -1 -1 -1 +1 -1 -1 +1 +1 +1 +1 +1 -1 -1 -1 -1 -1 -1 ... -1  -72.0       1 ...\n",
      "4 -1 -1 -1 +1 +1 -1 +1 +1 -1 +1 +1 -1 -1 +1 -1 -1 +1 ... -1  -70.0       3 ...\n",
      "5 -1 -1 -1 +1 +1 -1 +1 +1 -1 +1 +1 -1 -1 +1 -1 -1 +1 ... -1  -66.0       1 ...\n",
      "6 -1 -1 +1 -1 +1 -1 +1 +1 -1 +1 -1 -1 -1 +1 +1 -1 +1 ... -1  -58.0       1 ...\n",
      "7 -1 -1 +1 -1 +1 -1 +1 +1 -1 +1 -1 -1 -1 +1 -1 -1 +1 ... -1  -58.0       1 ...\n",
      "['SPIN', 8 rows, 10 samples, 25 variables]\n"
     ]
    },
    {
     "data": {
      "text/plain": [
       "'http://127.0.0.1:18000/?problemId=12687871-7358-410c-b26a-de324c4d37ab'"
      ]
     },
     "execution_count": 154,
     "metadata": {},
     "output_type": "execute_result"
    }
   ],
   "source": [
    "\n",
    "relative_chain_strength = 1.3\n",
    "chain_strength = max_coupler * relative_chain_strength\n",
    "print(f'chain_strength: {chain_strength}')\n",
    "n_runs = 10\n",
    "\n",
    "sampler = EmbeddingComposite(DWaveSampler())\n",
    "response = sampler.sample_ising(\n",
    "  h,\n",
    "  J,\n",
    "  chain_strength=chain_strength,\n",
    "  num_reads=n_runs,\n",
    "  label=f'3-SAT phase transition',\n",
    ")\n",
    "#response = dimod.ExactSolver().sample_ising(h, J)\n",
    "print(response)\n",
    "dwave.inspector.show(response)"
   ]
  },
  {
   "cell_type": "code",
   "execution_count": 155,
   "id": "b62ecf27",
   "metadata": {},
   "outputs": [
    {
     "data": {
      "text/plain": [
       "False"
      ]
     },
     "execution_count": 155,
     "metadata": {},
     "output_type": "execute_result"
    }
   ],
   "source": [
    "solution = np.array(list(response.first.sample.values()))\n",
    "boolean_expressions = v * solution[:, np.newaxis]\n",
    "boolean_clauses = np.any(boolean_expressions == 1, axis=0)\n",
    "all_clauses_fulfilled = np.all(boolean_clauses)\n",
    "all_clauses_fulfilled"
   ]
  },
  {
   "cell_type": "code",
   "execution_count": 156,
   "id": "984f6544",
   "metadata": {},
   "outputs": [
    {
     "data": {
      "text/plain": [
       "array([ True,  True,  True,  True,  True,  True,  True,  True,  True,\n",
       "        True,  True,  True,  True,  True,  True,  True,  True,  True,\n",
       "        True,  True,  True,  True,  True,  True,  True,  True,  True,\n",
       "        True,  True,  True,  True,  True,  True,  True,  True,  True,\n",
       "        True,  True,  True,  True,  True,  True,  True,  True,  True,\n",
       "        True,  True,  True,  True,  True,  True,  True,  True,  True,\n",
       "        True,  True,  True,  True,  True,  True,  True,  True, False,\n",
       "        True,  True,  True,  True,  True,  True,  True,  True,  True,\n",
       "        True,  True,  True])"
      ]
     },
     "execution_count": 156,
     "metadata": {},
     "output_type": "execute_result"
    }
   ],
   "source": [
    "boolean_clauses"
   ]
  },
  {
   "cell_type": "code",
   "execution_count": 157,
   "id": "fdc7ab5a",
   "metadata": {},
   "outputs": [
    {
     "data": {
      "text/plain": [
       "0.034999999999999996"
      ]
     },
     "execution_count": 157,
     "metadata": {},
     "output_type": "execute_result"
    }
   ],
   "source": [
    "np.mean(response.record.chain_break_fraction)"
   ]
  },
  {
   "cell_type": "code",
   "execution_count": 101,
   "id": "a0a786b5",
   "metadata": {},
   "outputs": [
    {
     "data": {
      "text/plain": [
       "{'type': 'SampleSet',\n",
       " 'version': {'sampleset_schema': '3.1.0'},\n",
       " 'num_variables': 25,\n",
       " 'num_rows': 10,\n",
       " 'sample_data': {'type': 'array',\n",
       "  'data': [[10457916],\n",
       "   [14095284],\n",
       "   [10457916],\n",
       "   [15305062],\n",
       "   [11114870],\n",
       "   [14095156],\n",
       "   [12294004],\n",
       "   [11867254],\n",
       "   [12162942],\n",
       "   [14095284]],\n",
       "  'data_type': 'uint32',\n",
       "  'shape': (10, 1),\n",
       "  'use_bytes': False},\n",
       " 'sample_type': 'int8',\n",
       " 'sample_packed': True,\n",
       " 'vectors': {'energy': {'type': 'array',\n",
       "   'data': [-220.0,\n",
       "    -206.0,\n",
       "    -220.0,\n",
       "    -226.0,\n",
       "    -224.0,\n",
       "    -206.0,\n",
       "    -216.0,\n",
       "    -196.0,\n",
       "    -186.0,\n",
       "    -206.0],\n",
       "   'data_type': 'float64',\n",
       "   'shape': (10,),\n",
       "   'use_bytes': False},\n",
       "  'num_occurrences': {'type': 'array',\n",
       "   'data': [1, 1, 1, 1, 1, 1, 1, 1, 1, 1],\n",
       "   'data_type': 'int32',\n",
       "   'shape': (10,),\n",
       "   'use_bytes': False},\n",
       "  'chain_break_fraction': {'type': 'array',\n",
       "   'data': [0.08, 0.04, 0.08, 0.0, 0.0, 0.04, 0.0, 0.04, 0.08, 0.08],\n",
       "   'data_type': 'float64',\n",
       "   'shape': (10,),\n",
       "   'use_bytes': False}},\n",
       " 'variable_labels': [0,\n",
       "  1,\n",
       "  2,\n",
       "  3,\n",
       "  4,\n",
       "  5,\n",
       "  6,\n",
       "  7,\n",
       "  8,\n",
       "  9,\n",
       "  10,\n",
       "  11,\n",
       "  12,\n",
       "  13,\n",
       "  14,\n",
       "  15,\n",
       "  16,\n",
       "  17,\n",
       "  18,\n",
       "  19,\n",
       "  20,\n",
       "  21,\n",
       "  22,\n",
       "  23,\n",
       "  24],\n",
       " 'variable_type': 'SPIN',\n",
       " 'info': {'timing': {'qpu_sampling_time': 1120.2,\n",
       "   'qpu_anneal_time_per_sample': 20.0,\n",
       "   'qpu_readout_time_per_sample': 71.48,\n",
       "   'qpu_access_time': 16878.17,\n",
       "   'qpu_access_overhead_time': 1570.83,\n",
       "   'qpu_programming_time': 15757.97,\n",
       "   'qpu_delay_time_per_sample': 20.54,\n",
       "   'post_processing_overhead_time': 2007.0,\n",
       "   'total_post_processing_time': 2007.0},\n",
       "  'problem_id': '2057bb98-8776-4d93-8497-011f6360d711',\n",
       "  'problem_label': '3-SAT phase transition',\n",
       "  'embedding_context': {'embedding': {1: [2632, 2633, 4334, 4333],\n",
       "    0: [4453, 4454, 4452],\n",
       "    2: [4528, 4529, 2498],\n",
       "    3: [2483, 4573, 2482, 4574],\n",
       "    4: [4423, 4424, 2452],\n",
       "    5: [2723, 2724, 2722],\n",
       "    6: [2678, 2677, 2679, 4319],\n",
       "    7: [2603, 2602, 4604],\n",
       "    8: [2438, 4558, 4559, 2437],\n",
       "    9: [4408, 4409, 2528],\n",
       "    10: [2557, 2558, 4348, 4259],\n",
       "    11: [2693, 4439, 2692],\n",
       "    12: [2573, 2574, 4394],\n",
       "    13: [4512, 4513, 2393, 4514],\n",
       "    14: [2588, 4619, 2587, 4633],\n",
       "    15: [4588, 2468, 4589, 2467],\n",
       "    16: [4483, 4482, 2543, 4484],\n",
       "    17: [4364, 4363, 2753],\n",
       "    18: [2648, 2647, 4544, 2649],\n",
       "    19: [4468, 4467, 4469],\n",
       "    20: [4498, 4497, 4499, 2513],\n",
       "    21: [4379, 2738, 4378],\n",
       "    22: [2662, 2663, 2664, 4244],\n",
       "    23: [2708, 2707, 2709],\n",
       "    24: [4318, 2617, 2618, 4349]},\n",
       "   'chain_break_method': 'majority_vote',\n",
       "   'embedding_parameters': {},\n",
       "   'chain_strength': 10},\n",
       "  'warnings': [{'type': dwave.system.warnings.ChainBreakWarning,\n",
       "    'message': 'Lowest-energy samples contain a broken chain',\n",
       "    'level': 40,\n",
       "    'data': {'target_variables': [2438, 4558, 4559, 2437],\n",
       "     'source_variables': [8],\n",
       "     'sample_index': 0}},\n",
       "   {'type': dwave.system.warnings.ChainBreakWarning,\n",
       "    'message': 'Lowest-energy samples contain a broken chain',\n",
       "    'level': 40,\n",
       "    'data': {'target_variables': [4379, 2738, 4378],\n",
       "     'source_variables': [21],\n",
       "     'sample_index': 0}}]}}"
      ]
     },
     "execution_count": 101,
     "metadata": {},
     "output_type": "execute_result"
    }
   ],
   "source": [
    "response.to_serializable()"
   ]
  },
  {
   "cell_type": "code",
   "execution_count": 43,
   "id": "8f600e82",
   "metadata": {},
   "outputs": [],
   "source": [
    "def ac_ising(h, J, verbose=True):\n",
    "\n",
    "  _ = h\n",
    "\n",
    "  s = set()\n",
    "\n",
    "  for x in J:\n",
    "    s.update(set(x))\n",
    "\n",
    "  n_vars = max(s) + 1\n",
    "\n",
    "  n_couplings = np.zeros((n_vars, ), dtype=np.int16)\n",
    "\n",
    "  for x in J:\n",
    "    if J[x] != 0:\n",
    "      n_couplings[x[0]] += 1\n",
    "      n_couplings[x[1]] += 1\n",
    "  \n",
    "  mean_couplings = np.mean(n_couplings)\n",
    "\n",
    "  if verbose:\n",
    "    print(n_couplings)\n",
    "    print(mean_couplings)\n",
    "\n",
    "    plt.figure()\n",
    "    plt.title('Couplings per qubits')\n",
    "    plt.xlabel('Qubit')\n",
    "    plt.ylabel('Couplings')\n",
    "    plt.bar(np.array(range(n_vars)) + 1, n_couplings, label='Count')\n",
    "    plt.hlines([mean_couplings], 0.5, n_vars + 0.5, color='orange', label=f'Mean = {round(mean_couplings, 2)}')\n",
    "    plt.legend(loc='lower right')\n",
    "    plt.show()\n",
    "\n",
    "  return n_couplings, mean_couplings\n"
   ]
  },
  {
   "cell_type": "code",
   "execution_count": 180,
   "id": "7b11bbac",
   "metadata": {},
   "outputs": [],
   "source": [
    "#3\n",
    "#3.5\n",
    "#4\n",
    "#4.5\n",
    "#5\n",
    "#5.5\n",
    "#6\n",
    "#\n",
    "#7 trials\n",
    "#\n",
    "#10 random problem instances each\n",
    "#100 runs each\n",
    "#\n",
    "#16 ms for each 10 sample batch\n",
    "#* 700\n",
    "#\n",
    "#~= 11.2 seconds\n",
    "#\n",
    "#(about a 6th of my monthly processing time)"
   ]
  },
  {
   "cell_type": "code",
   "execution_count": null,
   "id": "ae2d019f",
   "metadata": {},
   "outputs": [],
   "source": []
  }
 ],
 "metadata": {
  "kernelspec": {
   "display_name": "Python 3 (ipykernel)",
   "language": "python",
   "name": "python3"
  },
  "language_info": {
   "codemirror_mode": {
    "name": "ipython",
    "version": 3
   },
   "file_extension": ".py",
   "mimetype": "text/x-python",
   "name": "python",
   "nbconvert_exporter": "python",
   "pygments_lexer": "ipython3",
   "version": "3.9.5"
  }
 },
 "nbformat": 4,
 "nbformat_minor": 5
}
