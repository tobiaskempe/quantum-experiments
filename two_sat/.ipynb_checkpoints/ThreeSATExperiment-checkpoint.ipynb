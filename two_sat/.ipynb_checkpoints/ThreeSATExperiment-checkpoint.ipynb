{
 "cells": [
  {
   "cell_type": "code",
   "execution_count": null,
   "id": "d0e104cc",
   "metadata": {},
   "outputs": [],
   "source": [
    "\n",
    "\n",
    "# defines the 2SAT instance\n",
    "#v = np.array([\n",
    "  #[1, -1, -1, 1],\n",
    "  #[-1, 1, -1, 0],\n",
    "  #[0, 0, 0, 1],\n",
    "#])\n",
    "\n",
    "\n",
    "\n",
    "#response = dimod.ExactSolver().sample_ising(h, J)\n",
    "\n",
    "#print(response.first)\n",
    "#print(response.info)\n",
    "#print(response.record)\n",
    "#print(response.variables)\n",
    "#print(response.vartype)\n",
    "\n",
    "#print(response.aggregate())\n",
    "#print(response.lowest())\n",
    "#print(response.done())"
   ]
  },
  {
   "cell_type": "code",
   "execution_count": 45,
   "id": "49776e43",
   "metadata": {},
   "outputs": [],
   "source": [
    "from collections import defaultdict\n",
    "import dwave.inspector\n",
    "from dwave.system.samplers import DWaveSampler\n",
    "from dwave.system.composites import EmbeddingComposite\n",
    "import numpy as np\n",
    "import dimod\n",
    "import matplotlib.pyplot as plt"
   ]
  },
  {
   "cell_type": "code",
   "execution_count": 14,
   "id": "eb7224a6",
   "metadata": {},
   "outputs": [],
   "source": [
    "def generate_k_sat(k, n_vars, n_clauses):\n",
    "    v = np.zeros((n_vars, n_clauses))\n",
    "    for i in range(n_clauses):\n",
    "        l = list(range(n_vars))\n",
    "        sel = np.random.choice(l, size=k, replace=False)\n",
    "        b = np.random.choice([-1, +1], size=k, replace=True)\n",
    "        v[sel, i] = b\n",
    "    return v"
   ]
  },
  {
   "cell_type": "code",
   "execution_count": 65,
   "id": "fd0004e0",
   "metadata": {},
   "outputs": [],
   "source": [
    "v = generate_k_sat(3, 25, 500)"
   ]
  },
  {
   "cell_type": "code",
   "execution_count": 66,
   "id": "694585d1",
   "metadata": {},
   "outputs": [
    {
     "name": "stdout",
     "output_type": "stream",
     "text": [
      "alpha = 20.0\n"
     ]
    }
   ],
   "source": [
    "print(f'alpha = {round(v.shape[1] / v.shape[0], 2)}')\n",
    "\n",
    "# verifies that only 2-clauses exist!\n",
    "for x in np.sum(np.abs(v), axis=0):\n",
    "  if x != 3:\n",
    "    print(\"expression may only contain 3-clauses\")\n",
    "    raise Exception"
   ]
  },
  {
   "cell_type": "code",
   "execution_count": 67,
   "id": "639697ab",
   "metadata": {},
   "outputs": [],
   "source": [
    "h = defaultdict(int)\n",
    "J = defaultdict(int)\n",
    "\n",
    "for (j, occs) in enumerate(v):\n",
    "  h[j] = - np.sum(occs)\n",
    "\n",
    "n_vars = len(v)\n",
    "for i in range(n_vars):\n",
    "  for j in range(n_vars):\n",
    "    if i < j:\n",
    "      J[(i, j)] = np.sum(v[i] * v[j])\n",
    "\n",
    "max_coupler = max(J.values())"
   ]
  },
  {
   "cell_type": "code",
   "execution_count": 68,
   "id": "c9fd993a",
   "metadata": {},
   "outputs": [
    {
     "data": {
      "text/plain": [
       "8.0"
      ]
     },
     "execution_count": 68,
     "metadata": {},
     "output_type": "execute_result"
    }
   ],
   "source": [
    "max(J.values())"
   ]
  },
  {
   "cell_type": "code",
   "execution_count": 69,
   "id": "a8834d1c",
   "metadata": {},
   "outputs": [
    {
     "name": "stdout",
     "output_type": "stream",
     "text": [
      "[18 21 20 18 22 19 17 18 20 21 20 20 21 20 24 19 21 20 18 20 18 20 21 17\n",
      " 15]\n",
      "19.52\n"
     ]
    },
    {
     "data": {
      "image/png": "[encoded data removed]",
      "text/plain": [
       "<Figure size 432x288 with 1 Axes>"
      ]
     },
     "metadata": {
      "needs_background": "light"
     },
     "output_type": "display_data"
    },
    {
     "data": {
      "text/plain": [
       "(array([18, 21, 20, 18, 22, 19, 17, 18, 20, 21, 20, 20, 21, 20, 24, 19, 21,\n",
       "        20, 18, 20, 18, 20, 21, 17, 15], dtype=int16),\n",
       " 19.52)"
      ]
     },
     "execution_count": 69,
     "metadata": {},
     "output_type": "execute_result"
    }
   ],
   "source": [
    "ac_ising(h, J)"
   ]
  },
  {
   "cell_type": "code",
   "execution_count": 72,
   "id": "bc1dbe16",
   "metadata": {},
   "outputs": [
    {
     "name": "stdout",
     "output_type": "stream",
     "text": [
      "chain_strength: 10\n",
      "   0  1  2  3  4  5  6  7  8  9 10 11 12 13 14 15 16 ... 24 energy num_oc. ...\n",
      "3 -1 +1 +1 -1 -1 +1 +1 -1 +1 -1 -1 +1 -1 -1 -1 +1 +1 ... -1 -226.0       1 ...\n",
      "4 -1 +1 +1 -1 +1 +1 +1 -1 +1 -1 -1 +1 +1 -1 -1 +1 +1 ... -1 -224.0       1 ...\n",
      "0 -1 -1 +1 +1 +1 +1 -1 -1 +1 +1 -1 -1 +1 -1 -1 +1 +1 ... -1 -220.0       1 ...\n",
      "2 -1 -1 +1 +1 +1 +1 -1 -1 +1 +1 -1 -1 +1 -1 -1 +1 +1 ... -1 -220.0       1 ...\n",
      "6 -1 -1 +1 -1 +1 +1 +1 -1 +1 +1 +1 -1 +1 -1 -1 +1 +1 ... -1 -216.0       1 ...\n",
      "1 -1 -1 +1 -1 +1 +1 -1 +1 +1 +1 -1 -1 +1 -1 -1 -1 +1 ... -1 -206.0       1 ...\n",
      "5 -1 -1 +1 -1 +1 +1 -1 -1 +1 +1 -1 -1 +1 -1 -1 -1 +1 ... -1 -206.0       1 ...\n",
      "9 -1 -1 +1 -1 +1 +1 -1 +1 +1 +1 -1 -1 +1 -1 -1 -1 +1 ... -1 -206.0       1 ...\n",
      "7 -1 +1 +1 -1 +1 +1 +1 -1 -1 -1 +1 -1 +1 -1 -1 -1 +1 ... -1 -196.0       1 ...\n",
      "8 -1 +1 +1 +1 +1 +1 +1 -1 +1 +1 +1 -1 +1 -1 -1 +1 +1 ... -1 -186.0       1 ...\n",
      "['SPIN', 10 rows, 10 samples, 25 variables]\n"
     ]
    },
    {
     "data": {
      "text/plain": [
       "'http://127.0.0.1:18000/?problemId=2057bb98-8776-4d93-8497-011f6360d711'"
      ]
     },
     "execution_count": 72,
     "metadata": {},
     "output_type": "execute_result"
    }
   ],
   "source": [
    "\n",
    "relative_chain_strength = 1.3\n",
    "chain_strength = max_coupler * relative_chain_strength\n",
    "print(f'chain_strength: {chain_strength}')\n",
    "n_runs = 10\n",
    "\n",
    "sampler = EmbeddingComposite(DWaveSampler())\n",
    "response = sampler.sample_ising(\n",
    "  h,\n",
    "  J,\n",
    "  chain_strength=chain_strength,\n",
    "  num_reads=n_runs,\n",
    "  label=f'3-SAT phase transition',\n",
    ")\n",
    "#response = dimod.ExactSolver().sample_ising(h, J)\n",
    "print(response)\n",
    "dwave.inspector.show(response)"
   ]
  },
  {
   "cell_type": "code",
   "execution_count": 96,
   "id": "bbce88f6",
   "metadata": {},
   "outputs": [
    {
     "data": {
      "text/plain": [
       "False"
      ]
     },
     "execution_count": 96,
     "metadata": {},
     "output_type": "execute_result"
    }
   ],
   "source": [
    "solution = np.array(list(response.first.sample.values()))\n",
    "boolean_expressions = v * solution[:, np.newaxis]\n",
    "boolean_clauses = np.any(boolean_expressions == 1, axis=0)\n",
    "all_clauses_fulfilled = np.all(boolean_clauses)\n",
    "all_clauses_fulfilled"
   ]
  },
  {
   "cell_type": "code",
   "execution_count": 106,
   "id": "eef9b528",
   "metadata": {},
   "outputs": [
    {
     "data": {
      "text/plain": [
       "0.044000000000000004"
      ]
     },
     "execution_count": 106,
     "metadata": {},
     "output_type": "execute_result"
    }
   ],
   "source": [
    "np.mean(response.record.chain_break_fraction)"
   ]
  },
  {
   "cell_type": "code",
   "execution_count": 101,
   "id": "be2a46d6",
   "metadata": {},
   "outputs": [
    {
     "data": {
      "text/plain": [
       "{'type': 'SampleSet',\n",
       " 'version': {'sampleset_schema': '3.1.0'},\n",
       " 'num_variables': 25,\n",
       " 'num_rows': 10,\n",
       " 'sample_data': {'type': 'array',\n",
       "  'data': [[10457916],\n",
       "   [14095284],\n",
       "   [10457916],\n",
       "   [15305062],\n",
       "   [11114870],\n",
       "   [14095156],\n",
       "   [12294004],\n",
       "   [11867254],\n",
       "   [12162942],\n",
       "   [14095284]],\n",
       "  'data_type': 'uint32',\n",
       "  'shape': (10, 1),\n",
       "  'use_bytes': False},\n",
       " 'sample_type': 'int8',\n",
       " 'sample_packed': True,\n",
       " 'vectors': {'energy': {'type': 'array',\n",
       "   'data': [-220.0,\n",
       "    -206.0,\n",
       "    -220.0,\n",
       "    -226.0,\n",
       "    -224.0,\n",
       "    -206.0,\n",
       "    -216.0,\n",
       "    -196.0,\n",
       "    -186.0,\n",
       "    -206.0],\n",
       "   'data_type': 'float64',\n",
       "   'shape': (10,),\n",
       "   'use_bytes': False},\n",
       "  'num_occurrences': {'type': 'array',\n",
       "   'data': [1, 1, 1, 1, 1, 1, 1, 1, 1, 1],\n",
       "   'data_type': 'int32',\n",
       "   'shape': (10,),\n",
       "   'use_bytes': False},\n",
       "  'chain_break_fraction': {'type': 'array',\n",
       "   'data': [0.08, 0.04, 0.08, 0.0, 0.0, 0.04, 0.0, 0.04, 0.08, 0.08],\n",
       "   'data_type': 'float64',\n",
       "   'shape': (10,),\n",
       "   'use_bytes': False}},\n",
       " 'variable_labels': [0,\n",
       "  1,\n",
       "  2,\n",
       "  3,\n",
       "  4,\n",
       "  5,\n",
       "  6,\n",
       "  7,\n",
       "  8,\n",
       "  9,\n",
       "  10,\n",
       "  11,\n",
       "  12,\n",
       "  13,\n",
       "  14,\n",
       "  15,\n",
       "  16,\n",
       "  17,\n",
       "  18,\n",
       "  19,\n",
       "  20,\n",
       "  21,\n",
       "  22,\n",
       "  23,\n",
       "  24],\n",
       " 'variable_type': 'SPIN',\n",
       " 'info': {'timing': {'qpu_sampling_time': 1120.2,\n",
       "   'qpu_anneal_time_per_sample': 20.0,\n",
       "   'qpu_readout_time_per_sample': 71.48,\n",
       "   'qpu_access_time': 16878.17,\n",
       "   'qpu_access_overhead_time': 1570.83,\n",
       "   'qpu_programming_time': 15757.97,\n",
       "   'qpu_delay_time_per_sample': 20.54,\n",
       "   'post_processing_overhead_time': 2007.0,\n",
       "   'total_post_processing_time': 2007.0},\n",
       "  'problem_id': '2057bb98-8776-4d93-8497-011f6360d711',\n",
       "  'problem_label': '3-SAT phase transition',\n",
       "  'embedding_context': {'embedding': {1: [2632, 2633, 4334, 4333],\n",
       "    0: [4453, 4454, 4452],\n",
       "    2: [4528, 4529, 2498],\n",
       "    3: [2483, 4573, 2482, 4574],\n",
       "    4: [4423, 4424, 2452],\n",
       "    5: [2723, 2724, 2722],\n",
       "    6: [2678, 2677, 2679, 4319],\n",
       "    7: [2603, 2602, 4604],\n",
       "    8: [2438, 4558, 4559, 2437],\n",
       "    9: [4408, 4409, 2528],\n",
       "    10: [2557, 2558, 4348, 4259],\n",
       "    11: [2693, 4439, 2692],\n",
       "    12: [2573, 2574, 4394],\n",
       "    13: [4512, 4513, 2393, 4514],\n",
       "    14: [2588, 4619, 2587, 4633],\n",
       "    15: [4588, 2468, 4589, 2467],\n",
       "    16: [4483, 4482, 2543, 4484],\n",
       "    17: [4364, 4363, 2753],\n",
       "    18: [2648, 2647, 4544, 2649],\n",
       "    19: [4468, 4467, 4469],\n",
       "    20: [4498, 4497, 4499, 2513],\n",
       "    21: [4379, 2738, 4378],\n",
       "    22: [2662, 2663, 2664, 4244],\n",
       "    23: [2708, 2707, 2709],\n",
       "    24: [4318, 2617, 2618, 4349]},\n",
       "   'chain_break_method': 'majority_vote',\n",
       "   'embedding_parameters': {},\n",
       "   'chain_strength': 10},\n",
       "  'warnings': [{'type': dwave.system.warnings.ChainBreakWarning,\n",
       "    'message': 'Lowest-energy samples contain a broken chain',\n",
       "    'level': 40,\n",
       "    'data': {'target_variables': [2438, 4558, 4559, 2437],\n",
       "     'source_variables': [8],\n",
       "     'sample_index': 0}},\n",
       "   {'type': dwave.system.warnings.ChainBreakWarning,\n",
       "    'message': 'Lowest-energy samples contain a broken chain',\n",
       "    'level': 40,\n",
       "    'data': {'target_variables': [4379, 2738, 4378],\n",
       "     'source_variables': [21],\n",
       "     'sample_index': 0}}]}}"
      ]
     },
     "execution_count": 101,
     "metadata": {},
     "output_type": "execute_result"
    }
   ],
   "source": [
    "response.to_serializable()"
   ]
  },
  {
   "cell_type": "code",
   "execution_count": 43,
   "id": "6aa77223",
   "metadata": {},
   "outputs": [],
   "source": [
    "def ac_ising(h, J, verbose=True):\n",
    "\n",
    "  _ = h\n",
    "\n",
    "  s = set()\n",
    "\n",
    "  for x in J:\n",
    "    s.update(set(x))\n",
    "\n",
    "  n_vars = max(s) + 1\n",
    "\n",
    "  n_couplings = np.zeros((n_vars, ), dtype=np.int16)\n",
    "\n",
    "  for x in J:\n",
    "    if J[x] != 0:\n",
    "      n_couplings[x[0]] += 1\n",
    "      n_couplings[x[1]] += 1\n",
    "  \n",
    "  mean_couplings = np.mean(n_couplings)\n",
    "\n",
    "  if verbose:\n",
    "    print(n_couplings)\n",
    "    print(mean_couplings)\n",
    "\n",
    "    plt.figure()\n",
    "    plt.title('Couplings per qubits')\n",
    "    plt.xlabel('Qubit')\n",
    "    plt.ylabel('Couplings')\n",
    "    plt.bar(np.array(range(n_vars)) + 1, n_couplings, label='Count')\n",
    "    plt.hlines([mean_couplings], 0.5, n_vars + 0.5, color='orange', label=f'Mean = {round(mean_couplings, 2)}')\n",
    "    plt.legend(loc='lower right')\n",
    "    plt.show()\n",
    "\n",
    "  return n_couplings, mean_couplings\n"
   ]
  },
  {
   "cell_type": "code",
   "execution_count": null,
   "id": "b634069c",
   "metadata": {},
   "outputs": [],
   "source": []
  }
 ],
 "metadata": {
  "kernelspec": {
   "display_name": "Python 3 (ipykernel)",
   "language": "python",
   "name": "python3"
  },
  "language_info": {
   "codemirror_mode": {
    "name": "ipython",
    "version": 3
   },
   "file_extension": ".py",
   "mimetype": "text/x-python",
   "name": "python",
   "nbconvert_exporter": "python",
   "pygments_lexer": "ipython3",
   "version": "3.9.5"
  }
 },
 "nbformat": 4,
 "nbformat_minor": 5
}
