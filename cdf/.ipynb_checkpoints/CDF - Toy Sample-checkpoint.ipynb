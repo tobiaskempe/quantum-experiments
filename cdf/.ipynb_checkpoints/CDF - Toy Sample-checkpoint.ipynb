{
 "cells": [
  {
   "cell_type": "code",
   "execution_count": 1,
   "id": "87649ec9",
   "metadata": {},
   "outputs": [],
   "source": [
    "import numpy as np\n",
    "from dwave.system.samplers import DWaveSampler\n",
    "from dwave.system.composites import EmbeddingComposite\n",
    "import dwave.inspector\n",
    "import dimod\n",
    "import importlib\n",
    "from collections import defaultdict\n",
    "import matplotlib.pyplot as plt"
   ]
  },
  {
   "cell_type": "code",
   "execution_count": 12,
   "id": "e265fcb3",
   "metadata": {},
   "outputs": [
    {
     "name": "stdout",
     "output_type": "stream",
     "text": [
      "defaultdict(<class 'int'>, {0: 0.3001, 1: 0.21028, 2: 0.14044, 3: 0.3001, 4: 0.21028, 5: 0.14044, 6: 0.3001, 7: 0.21028, 8: 0.14044, 9: 0.3001, 10: 0.21028, 11: 0.14044, 12: 0.3001, 13: 0.21028, 14: 0.14044})\n",
      "defaultdict(<class 'int'>, {(0, 1): 0.003975051501029975, (0, 2): -0.002246088921778434, (1, 2): 0.00514837976759533, (3, 4): 0.003975051501029975, (3, 5): -0.002246088921778434, (4, 5): 0.00514837976759533, (6, 7): 0.003975051501029975, (6, 8): -0.002246088921778434, (7, 8): 0.00514837976759533, (9, 10): 0.003975051501029975, (9, 11): -0.002246088921778434, (10, 11): 0.00514837976759533, (12, 13): 0.003975051501029975, (12, 14): -0.002246088921778434, (13, 14): 0.00514837976759533})\n",
      "0.003975051501029975\n"
     ]
    }
   ],
   "source": [
    "# alternative configuration with real data\n",
    "\n",
    "means = np.load('means.npy')\n",
    "covs = np.load('covs.npy').T\n",
    "        \n",
    "# number of marks\n",
    "M = 5\n",
    "\n",
    "# number of nucleosomes\n",
    "N = 5\n",
    "\n",
    "# independent propensity\n",
    "h = defaultdict(int)\n",
    "for n in range(N):\n",
    "    for i in range(M):\n",
    "        x = n * M + i\n",
    "        h[x] = means[i]\n",
    "\n",
    "# pair-wise correlation\n",
    "J = defaultdict(int)\n",
    "for n in range(N):\n",
    "    for i in range(M):\n",
    "        for j in range(i+1, M):\n",
    "            x = n * M + i\n",
    "            y = n * M + j\n",
    "            J[(x, y)] = covs[i, j]  \n",
    "\n",
    "print(h)\n",
    "print(J)\n",
    "print(covs[0, 1])"
   ]
  },
  {
   "cell_type": "code",
   "execution_count": 5,
   "id": "d25b45d8",
   "metadata": {},
   "outputs": [],
   "source": [
    "## configuration\n",
    "#\n",
    "## number of marks\n",
    "##M = 12\n",
    "#M = 3\n",
    "#\n",
    "## number of nucleosomes\n",
    "##N = 20\n",
    "#N = 5\n",
    "#\n",
    "## independent propensity\n",
    "#h = defaultdict(int)\n",
    "#propensity = np.random.rand(M)\n",
    "#for n in range(N):\n",
    "#    for i, h_i in enumerate(propensity):\n",
    "#        x = n * M + i\n",
    "#        h[x] = h_i\n",
    "#\n",
    "## pair-wise correlation\n",
    "#\n",
    "#pairwise = np.random.rand(M, M)\n",
    "#for n in range(N):\n",
    "#    for i in range(M):\n",
    "#        for j in range(i+1, M):\n",
    "#            x = n * M + i\n",
    "#            y = n * M + j\n",
    "#            J[(x, y)] = pairwise[i, j]\n",
    "#\n",
    "#max_correlation_length = 3\n",
    "#self_correlation = np.random.rand(M, max_correlation_length)\n",
    "##K = defaultdict(int)\n",
    "#for n in range(N):\n",
    "#    for i in range(M):\n",
    "#        for l in range(max_correlation_length):\n",
    "#            if n + l < N:\n",
    "#                x = n * M + i\n",
    "#                y = (n + l) * M + i\n",
    "#                J[(x, y)] = self_correlation[i, l]\n",
    "#        \n"
   ]
  },
  {
   "cell_type": "code",
   "execution_count": 13,
   "id": "94be1223",
   "metadata": {},
   "outputs": [
    {
     "name": "stdout",
     "output_type": "stream",
     "text": [
      "15\n"
     ]
    }
   ],
   "source": [
    "n_binary_vars = M * N\n",
    "print(n_binary_vars)"
   ]
  },
  {
   "cell_type": "code",
   "execution_count": 14,
   "id": "e29d0def",
   "metadata": {},
   "outputs": [],
   "source": [
    "# alternative test for h and J\n",
    "#h = defaultdict(int)\n",
    "#for i in [0, 3, 6, 9, 12]:\n",
    "#    h[i] = -0.8\n",
    "#for i in [1, 4, 7, 10, 13]:\n",
    "#    h[i] = -0.6\n",
    "#for i in [2, 5, 8, 11, 14]:\n",
    "#    h[i] = -0.2\n",
    "#for i in range(n_binary_vars):\n",
    "#    h[i] = 0\n",
    "#h[0] = 1\n",
    "#\n",
    "#J = defaultdict(int)\n",
    "#for j in range(n_binary_vars):\n",
    "#    for i in range(0, j+1):\n",
    "#        J[(i, j)] = 0.5\n",
    "#J_val = -1\n",
    "## inter-heterosome\n",
    "#J[(0, 3)] += J_val\n",
    "#J[(0, 9)] += J_val\n",
    "#J[(0, 12)] += J_val\n",
    "#J[(4, 7)] += J_val\n",
    "#J[(4, 10)] += J_val\n",
    "#\n",
    "## intra-heterosome\n",
    "#J[(3, 4)] += J_val\n",
    "#J[(9, 10)] += J_val\n",
    "#J[(9, 11)] += J_val\n",
    "#J[(10, 11)] += J_val"
   ]
  },
  {
   "cell_type": "markdown",
   "id": "be292e04",
   "metadata": {},
   "source": [
    "Encoding of $s_i^n$ to qubit register: counting variable $x = n \\cdot M + i$.\n",
    "So the register looks like this:\n",
    "$\\left[s_1^1, s_2^1, s_3^1, s_1^2, s_2^2, s_3^2, ...\\right]$"
   ]
  },
  {
   "cell_type": "code",
   "execution_count": 15,
   "id": "652edb7b",
   "metadata": {},
   "outputs": [
    {
     "name": "stdout",
     "output_type": "stream",
     "text": [
      "0.3001\n",
      "0.00514837976759533\n"
     ]
    }
   ],
   "source": [
    "h_max = max(h, key=h.get)\n",
    "J_max = max(J, key=J.get)\n",
    "print(h[h_max])\n",
    "print(J[J_max])"
   ]
  },
  {
   "cell_type": "code",
   "execution_count": 22,
   "id": "93a0e4b8",
   "metadata": {},
   "outputs": [],
   "source": [
    "use_qpu = True\n",
    "if use_qpu:\n",
    "    bqm = dimod.BQM.from_ising(h, J)\n",
    "    sampler = EmbeddingComposite(DWaveSampler())#solver='Advantage2_prototype1.1'))\n",
    "    response = sampler.sample(\n",
    "      bqm,\n",
    "      chain_strength=2,\n",
    "      num_reads=10,\n",
    "      annealing_time=100,\n",
    "      label='CDF',\n",
    "    )\n",
    "    dwave.inspector.show(response)\n",
    "elif True:\n",
    "    response = dimod.ExactSolver().sample_ising(h, J)\n",
    "else:\n",
    "    response = dimod.IdentitySampler().sample_qubo(Q, initial_states=[0.0, 1.0, 0.0, 0.0, 0.0, 0.0, 0.0, 0.0, 1.0, 0.0, 0.0, 0.0, 0.0, 0.0, 0.0, 0.0, 0.0, 0.0, 1.0, 0.0, 0.0, 0.0, 0.0, 0.0, 0.0, 0.0, 0.0, 1.0, 0.0, 0.0, 0.0, 0.0, 0.0, 0.0, 0.0, 0.0, 0.0, 0.0, 0.0, 0.0, 0.0, 1.0, 0.0, 0.0, 0.0, 0.0, 1.0, 0.0, 0.0, 0.0, 0.0, 0.0, 0.0, 0.0])\n"
   ]
  },
  {
   "cell_type": "code",
   "execution_count": 23,
   "id": "7c9b84e7",
   "metadata": {},
   "outputs": [
    {
     "data": {
      "text/plain": [
       "SampleSet(rec.array([([-1, -1, -1, -1, -1, -1, -1, -1, -1, -1, -1, -1, -1, -1, -1], -3.21971329, 1),\n",
       "           ([ 1, -1, -1, -1, -1, -1, -1, -1, -1, -1, -1, -1, -1, -1, -1], -2.62297121, 1),\n",
       "           ([ 1,  1, -1, -1, -1, -1, -1, -1, -1, -1, -1, -1, -1, -1, -1], -2.20475787, 1),\n",
       "           ...,\n",
       "           ([ 1,  1, -1, -1, -1, -1, -1, -1, -1, -1, -1, -1, -1, -1,  1], -1.92968245, 1),\n",
       "           ([ 1, -1, -1, -1, -1, -1, -1, -1, -1, -1, -1, -1, -1, -1,  1], -2.3478958 , 1),\n",
       "           ([-1, -1, -1, -1, -1, -1, -1, -1, -1, -1, -1, -1, -1, -1,  1], -2.94463787, 1)],\n",
       "          dtype=[('sample', 'i1', (15,)), ('energy', '<f8'), ('num_occurrences', '<i4')]), Variables(range(0, 15)), {}, 'SPIN')"
      ]
     },
     "execution_count": 23,
     "metadata": {},
     "output_type": "execute_result"
    }
   ],
   "source": [
    "response"
   ]
  },
  {
   "cell_type": "code",
   "execution_count": 28,
   "id": "bdab0341",
   "metadata": {},
   "outputs": [
    {
     "data": {
      "text/plain": [
       "SampleSet(rec.array([([-1, -1, -1, -1, -1, -1, -1, -1, -1, -1, -1, -1, -1, -1, -1], -3.21971329, 1)],\n",
       "          dtype=[('sample', 'i1', (15,)), ('energy', '<f8'), ('num_occurrences', '<i4')]), Variables(range(0, 15)), {}, 'SPIN')"
      ]
     },
     "execution_count": 28,
     "metadata": {},
     "output_type": "execute_result"
    }
   ],
   "source": [
    "response.lowest()"
   ]
  },
  {
   "cell_type": "code",
   "execution_count": 24,
   "id": "14c0a3ef",
   "metadata": {},
   "outputs": [],
   "source": [
    "first_result = np.array(list(response.first.sample.values()))"
   ]
  },
  {
   "cell_type": "code",
   "execution_count": 25,
   "id": "703c7939",
   "metadata": {},
   "outputs": [
    {
     "data": {
      "text/plain": [
       "array([-1, -1, -1, -1, -1, -1, -1, -1, -1, -1, -1, -1, -1, -1, -1],\n",
       "      dtype=int8)"
      ]
     },
     "execution_count": 25,
     "metadata": {},
     "output_type": "execute_result"
    }
   ],
   "source": [
    "first_result"
   ]
  },
  {
   "cell_type": "code",
   "execution_count": 26,
   "id": "f4345350",
   "metadata": {},
   "outputs": [],
   "source": [
    "#first_result = np.array([1, 1, 1, -1, -1, -1, -1, -1, -1, -1, -1, -1, -1, -1, -1])\n",
    "\n",
    "result_matrix = first_result.reshape(N, M).T"
   ]
  },
  {
   "cell_type": "code",
   "execution_count": 27,
   "id": "eb4a4bb2",
   "metadata": {},
   "outputs": [
    {
     "data": {
      "text/plain": [
       "<matplotlib.image.AxesImage at 0x18766cc0340>"
      ]
     },
     "execution_count": 27,
     "metadata": {},
     "output_type": "execute_result"
    },
    {
     "data": {
      "image/png": "[encoded data removed]",
      "text/plain": [
       "<Figure size 432x288 with 1 Axes>"
      ]
     },
     "metadata": {
      "needs_background": "light"
     },
     "output_type": "display_data"
    }
   ],
   "source": [
    "plt.figure()\n",
    "plt.imshow(result_matrix)"
   ]
  },
  {
   "cell_type": "code",
   "execution_count": null,
   "id": "6c10130f",
   "metadata": {},
   "outputs": [],
   "source": []
  },
  {
   "cell_type": "code",
   "execution_count": null,
   "id": "1a887620",
   "metadata": {},
   "outputs": [],
   "source": []
  },
  {
   "cell_type": "code",
   "execution_count": null,
   "id": "3e50e5f3",
   "metadata": {},
   "outputs": [],
   "source": []
  },
  {
   "cell_type": "code",
   "execution_count": 79,
   "id": "171e1667",
   "metadata": {},
   "outputs": [
    {
     "data": {
      "text/plain": [
       "SampleSet(rec.array([([-1, -1],  1., 1), ([ 1, -1], -1., 1), ([ 1,  1],  1., 1),\n",
       "           ([-1,  1], -1., 1)],\n",
       "          dtype=[('sample', 'i1', (2,)), ('energy', '<f8'), ('num_occurrences', '<i4')]), Variables([0, 1]), {}, 'SPIN')"
      ]
     },
     "execution_count": 79,
     "metadata": {},
     "output_type": "execute_result"
    }
   ],
   "source": [
    "h = defaultdict(int)\n",
    "J = defaultdict(int)\n",
    "h[0] = 0\n",
    "h[1] = 0\n",
    "J[(0, 1)] = 1\n",
    "response = dimod.ExactSolver().sample_ising(h, J)\n",
    "response"
   ]
  },
  {
   "cell_type": "code",
   "execution_count": 81,
   "id": "8ea01f45",
   "metadata": {},
   "outputs": [
    {
     "data": {
      "text/plain": [
       "Sample(sample={0: 1, 1: -1}, energy=-1.0, num_occurrences=1)"
      ]
     },
     "execution_count": 81,
     "metadata": {},
     "output_type": "execute_result"
    }
   ],
   "source": [
    "response.first"
   ]
  },
  {
   "cell_type": "code",
   "execution_count": null,
   "id": "c7e13bff",
   "metadata": {},
   "outputs": [],
   "source": []
  }
 ],
 "metadata": {
  "kernelspec": {
   "display_name": "Python 3 (ipykernel)",
   "language": "python",
   "name": "python3"
  },
  "language_info": {
   "codemirror_mode": {
    "name": "ipython",
    "version": 3
   },
   "file_extension": ".py",
   "mimetype": "text/x-python",
   "name": "python",
   "nbconvert_exporter": "python",
   "pygments_lexer": "ipython3",
   "version": "3.9.5"
  }
 },
 "nbformat": 4,
 "nbformat_minor": 5
}
