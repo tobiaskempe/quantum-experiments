{
 "cells": [
  {
   "cell_type": "code",
   "execution_count": 1,
   "id": "87649ec9",
   "metadata": {},
   "outputs": [],
   "source": [
    "import numpy as np\n",
    "from dwave.system.samplers import DWaveSampler\n",
    "from dwave.system.composites import EmbeddingComposite\n",
    "import dwave.inspector\n",
    "import dimod\n",
    "import importlib\n",
    "from collections import defaultdict\n",
    "import matplotlib.pyplot as plt"
   ]
  },
  {
   "cell_type": "code",
   "execution_count": 2,
   "id": "d34a044e",
   "metadata": {},
   "outputs": [
    {
     "name": "stdout",
     "output_type": "stream",
     "text": [
      "defaultdict(<class 'int'>, {0: 0.07407407407407407, 1: 0.1111111111111111, 2: 0.2222222222222222, 3: 0.48148148148148145, 4: 0.037037037037037035, 5: 0.07407407407407407, 6: 0.1111111111111111, 7: 0.2222222222222222, 8: 0.48148148148148145, 9: 0.037037037037037035, 10: 0.07407407407407407, 11: 0.1111111111111111, 12: 0.2222222222222222, 13: 0.48148148148148145, 14: 0.037037037037037035, 15: 0.07407407407407407, 16: 0.1111111111111111, 17: 0.2222222222222222, 18: 0.48148148148148145, 19: 0.037037037037037035, 20: 0.07407407407407407, 21: 0.1111111111111111, 22: 0.2222222222222222, 23: 0.48148148148148145, 24: 0.037037037037037035})\n",
      "defaultdict(<class 'int'>, {(0, 1): 0.029914529914529878, (0, 2): 0.021367521367521385, (0, 3): 0.03988603988603992, (0, 4): -0.0028490028490028496, (1, 2): 0.01282051282051282, (1, 3): 0.059829059829059866, (1, 4): 0.03418803418803419, (2, 3): 0.08119658119658124, (2, 4): 0.02991452991452992, (3, 4): 0.019943019943019953, (5, 6): 0.029914529914529878, (5, 7): 0.021367521367521385, (5, 8): 0.03988603988603992, (5, 9): -0.0028490028490028496, (6, 7): 0.01282051282051282, (6, 8): 0.059829059829059866, (6, 9): 0.03418803418803419, (7, 8): 0.08119658119658124, (7, 9): 0.02991452991452992, (8, 9): 0.019943019943019953, (10, 11): 0.029914529914529878, (10, 12): 0.021367521367521385, (10, 13): 0.03988603988603992, (10, 14): -0.0028490028490028496, (11, 12): 0.01282051282051282, (11, 13): 0.059829059829059866, (11, 14): 0.03418803418803419, (12, 13): 0.08119658119658124, (12, 14): 0.02991452991452992, (13, 14): 0.019943019943019953, (15, 16): 0.029914529914529878, (15, 17): 0.021367521367521385, (15, 18): 0.03988603988603992, (15, 19): -0.0028490028490028496, (16, 17): 0.01282051282051282, (16, 18): 0.059829059829059866, (16, 19): 0.03418803418803419, (17, 18): 0.08119658119658124, (17, 19): 0.02991452991452992, (18, 19): 0.019943019943019953, (20, 21): 0.029914529914529878, (20, 22): 0.021367521367521385, (20, 23): 0.03988603988603992, (20, 24): -0.0028490028490028496, (21, 22): 0.01282051282051282, (21, 23): 0.059829059829059866, (21, 24): 0.03418803418803419, (22, 23): 0.08119658119658124, (22, 24): 0.02991452991452992, (23, 24): 0.019943019943019953})\n",
      "0.029914529914529878\n"
     ]
    }
   ],
   "source": [
    "# alternative configuration with real data\n",
    "\n",
    "means = np.load('means2.npy')\n",
    "covs = np.load('covs2.npy').T\n",
    "        \n",
    "# number of marks\n",
    "M = 5\n",
    "\n",
    "# number of nucleosomes\n",
    "N = 5\n",
    "\n",
    "# independent propensity\n",
    "h = defaultdict(int)\n",
    "for n in range(N):\n",
    "    for i in range(M):\n",
    "        x = n * M + i\n",
    "        h[x] = means[i]\n",
    "\n",
    "# pair-wise correlation\n",
    "J = defaultdict(int)\n",
    "for n in range(N):\n",
    "    for i in range(M):\n",
    "        for j in range(i+1, M):\n",
    "            x = n * M + i\n",
    "            y = n * M + j\n",
    "            J[(x, y)] = covs[i, j]  \n",
    "\n",
    "print(h)\n",
    "print(J)\n",
    "print(covs[0, 1])"
   ]
  },
  {
   "cell_type": "code",
   "execution_count": 30,
   "id": "d25b45d8",
   "metadata": {},
   "outputs": [],
   "source": [
    "## configuration\n",
    "#\n",
    "## number of marks\n",
    "##M = 12\n",
    "#M = 3\n",
    "#\n",
    "## number of nucleosomes\n",
    "##N = 20\n",
    "#N = 5\n",
    "#\n",
    "## independent propensity\n",
    "#h = defaultdict(int)\n",
    "#propensity = np.random.rand(M)\n",
    "#for n in range(N):\n",
    "#    for i, h_i in enumerate(propensity):\n",
    "#        x = n * M + i\n",
    "#        h[x] = h_i\n",
    "#\n",
    "## pair-wise correlation\n",
    "#\n",
    "#pairwise = np.random.rand(M, M)\n",
    "#for n in range(N):\n",
    "#    for i in range(M):\n",
    "#        for j in range(i+1, M):\n",
    "#            x = n * M + i\n",
    "#            y = n * M + j\n",
    "#            J[(x, y)] = pairwise[i, j]\n",
    "#\n",
    "#max_correlation_length = 3\n",
    "#self_correlation = np.random.rand(M, max_correlation_length)\n",
    "##K = defaultdict(int)\n",
    "#for n in range(N):\n",
    "#    for i in range(M):\n",
    "#        for l in range(max_correlation_length):\n",
    "#            if n + l < N:\n",
    "#                x = n * M + i\n",
    "#                y = (n + l) * M + i\n",
    "#                J[(x, y)] = self_correlation[i, l]\n",
    "#        \n"
   ]
  },
  {
   "cell_type": "code",
   "execution_count": 3,
   "id": "94be1223",
   "metadata": {},
   "outputs": [
    {
     "name": "stdout",
     "output_type": "stream",
     "text": [
      "25\n"
     ]
    }
   ],
   "source": [
    "n_binary_vars = M * N\n",
    "print(n_binary_vars)"
   ]
  },
  {
   "cell_type": "code",
   "execution_count": 32,
   "id": "e29d0def",
   "metadata": {},
   "outputs": [],
   "source": [
    "# alternative test for h and J\n",
    "#h = defaultdict(int)\n",
    "#for i in [0, 3, 6, 9, 12]:\n",
    "#    h[i] = -0.8\n",
    "#for i in [1, 4, 7, 10, 13]:\n",
    "#    h[i] = -0.6\n",
    "#for i in [2, 5, 8, 11, 14]:\n",
    "#    h[i] = -0.2\n",
    "#for i in range(n_binary_vars):\n",
    "#    h[i] = 0\n",
    "#h[0] = 1\n",
    "#\n",
    "#J = defaultdict(int)\n",
    "#for j in range(n_binary_vars):\n",
    "#    for i in range(0, j+1):\n",
    "#        J[(i, j)] = 0.5\n",
    "#J_val = -1\n",
    "## inter-heterosome\n",
    "#J[(0, 3)] += J_val\n",
    "#J[(0, 9)] += J_val\n",
    "#J[(0, 12)] += J_val\n",
    "#J[(4, 7)] += J_val\n",
    "#J[(4, 10)] += J_val\n",
    "#\n",
    "## intra-heterosome\n",
    "#J[(3, 4)] += J_val\n",
    "#J[(9, 10)] += J_val\n",
    "#J[(9, 11)] += J_val\n",
    "#J[(10, 11)] += J_val"
   ]
  },
  {
   "cell_type": "markdown",
   "id": "be292e04",
   "metadata": {},
   "source": [
    "Encoding of $s_i^n$ to qubit register: counting variable $x = n \\cdot M + i$.\n",
    "So the register looks like this:\n",
    "$\\left[s_1^1, s_2^1, s_3^1, s_1^2, s_2^2, s_3^2, ...\\right]$"
   ]
  },
  {
   "cell_type": "code",
   "execution_count": 4,
   "id": "652edb7b",
   "metadata": {},
   "outputs": [
    {
     "name": "stdout",
     "output_type": "stream",
     "text": [
      "0.48148148148148145\n",
      "0.08119658119658124\n"
     ]
    }
   ],
   "source": [
    "h_max = max(h, key=h.get)\n",
    "J_max = max(J, key=J.get)\n",
    "print(h[h_max])\n",
    "print(J[J_max])"
   ]
  },
  {
   "cell_type": "code",
   "execution_count": 5,
   "id": "93a0e4b8",
   "metadata": {},
   "outputs": [],
   "source": [
    "use_qpu = True\n",
    "if use_qpu:\n",
    "    bqm = dimod.BQM.from_ising(h, J)\n",
    "    sampler = EmbeddingComposite(DWaveSampler())#solver='Advantage2_prototype1.1'))\n",
    "    response = sampler.sample(\n",
    "      bqm,\n",
    "      chain_strength=2,\n",
    "      num_reads=10,\n",
    "      annealing_time=100,\n",
    "      label='CDF',\n",
    "    )\n",
    "    dwave.inspector.show(response)\n",
    "elif True:\n",
    "    response = dimod.ExactSolver().sample_ising(h, J)\n",
    "else:\n",
    "    response = dimod.IdentitySampler().sample_qubo(Q, initial_states=[0.0, 1.0, 0.0, 0.0, 0.0, 0.0, 0.0, 0.0, 1.0, 0.0, 0.0, 0.0, 0.0, 0.0, 0.0, 0.0, 0.0, 0.0, 1.0, 0.0, 0.0, 0.0, 0.0, 0.0, 0.0, 0.0, 0.0, 1.0, 0.0, 0.0, 0.0, 0.0, 0.0, 0.0, 0.0, 0.0, 0.0, 0.0, 0.0, 0.0, 0.0, 1.0, 0.0, 0.0, 0.0, 0.0, 1.0, 0.0, 0.0, 0.0, 0.0, 0.0, 0.0, 0.0])\n"
   ]
  },
  {
   "cell_type": "code",
   "execution_count": 6,
   "id": "7c9b84e7",
   "metadata": {},
   "outputs": [
    {
     "data": {
      "text/plain": [
       "SampleSet(rec.array([([ 1, -1, -1, -1,  1, -1,  1, -1, -1, -1, -1,  1, -1, -1, -1,  1,  1, -1, -1,  1, -1, -1, -1, -1,  1], -3.24074074, 1, 0.),\n",
       "           ([-1,  1, -1, -1,  1, -1,  1, -1, -1,  1,  1,  1, -1, -1, -1, -1,  1, -1, -1, -1, -1, -1, -1, -1,  1], -3.1039886 , 1, 0.),\n",
       "           ([ 1, -1,  1, -1,  1,  1, -1, -1, -1,  1,  1, -1, -1, -1, -1, -1,  1,  1, -1, -1,  1, -1, -1, -1, -1], -2.7991453 , 1, 0.),\n",
       "           ([ 1, -1, -1, -1, -1, -1,  1, -1, -1,  1,  1,  1,  1, -1, -1,  1,  1, -1, -1,  1, -1,  1, -1, -1,  1], -2.62535613, 1, 0.),\n",
       "           ([-1, -1, -1, -1, -1,  1, -1,  1, -1,  1, -1,  1,  1, -1,  1,  1, -1, -1, -1,  1,  1, -1, -1, -1, -1], -2.6025641 , 1, 0.),\n",
       "           ([ 1,  1, -1, -1,  1, -1, -1,  1, -1,  1,  1, -1,  1, -1,  1,  1,  1, -1, -1,  1,  1, -1, -1, -1, -1], -2.45726496, 1, 0.),\n",
       "           ([ 1, -1, -1, -1, -1,  1,  1,  1, -1,  1, -1, -1, -1, -1,  1,  1, -1, -1, -1,  1,  1,  1,  1, -1, -1], -2.42592593, 1, 0.),\n",
       "           ([-1, -1, -1, -1,  1, -1, -1,  1, -1, -1, -1,  1, -1, -1,  1,  1,  1,  1, -1,  1,  1, -1,  1, -1, -1], -2.23789174, 1, 0.),\n",
       "           ([ 1, -1,  1, -1,  1, -1,  1,  1, -1, -1,  1,  1,  1, -1,  1, -1, -1,  1, -1,  1, -1, -1, -1, -1,  1], -2.02991453, 1, 0.),\n",
       "           ([ 1, -1, -1,  1, -1,  1,  1,  1, -1,  1, -1,  1, -1,  1,  1, -1,  1, -1, -1, -1,  1,  1, -1, -1,  1], -0.91595442, 1, 0.)],\n",
       "          dtype=[('sample', 'i1', (25,)), ('energy', '<f8'), ('num_occurrences', '<i4'), ('chain_break_fraction', '<f8')]), Variables(range(0, 25)), {'timing': {'qpu_sampling_time': 2015.2, 'qpu_anneal_time_per_sample': 100.0, 'qpu_readout_time_per_sample': 80.98, 'qpu_access_time': 17775.17, 'qpu_access_overhead_time': 1342.83, 'qpu_programming_time': 15759.97, 'qpu_delay_time_per_sample': 20.54, 'post_processing_overhead_time': 1967.0, 'total_post_processing_time': 1967.0}, 'problem_id': 'f3e48b56-ee90-4720-be64-c4a3de9e3858', 'problem_label': 'CDF', 'embedding_context': {'embedding': {1: (1602, 5288), 0: (1572,), 2: (1587,), 3: (5258,), 4: (5273,), 6: (497,), 5: (3497,), 7: (482,), 8: (3391, 437), 9: (3482,), 11: (2015, 3851), 10: (2165,), 12: (3881,), 13: (2180,), 14: (3896,), 16: (4458, 728), 15: (4413,), 17: (698,), 18: (4428,), 19: (713,), 21: (1852, 4284), 20: (4240,), 22: (4255,), 23: (1927,), 24: (1942,)}, 'chain_break_method': 'majority_vote', 'embedding_parameters': {}, 'chain_strength': 2}, 'warnings': []}, 'SPIN')"
      ]
     },
     "execution_count": 6,
     "metadata": {},
     "output_type": "execute_result"
    }
   ],
   "source": [
    "response"
   ]
  },
  {
   "cell_type": "code",
   "execution_count": 7,
   "id": "7e779e50",
   "metadata": {},
   "outputs": [
    {
     "data": {
      "text/plain": [
       "SampleSet(rec.array([([ 1, -1, -1, -1,  1, -1,  1, -1, -1, -1, -1,  1, -1, -1, -1,  1,  1, -1, -1,  1, -1, -1, -1, -1,  1], -3.24074074, 1, 0.)],\n",
       "          dtype=[('sample', 'i1', (25,)), ('energy', '<f8'), ('num_occurrences', '<i4'), ('chain_break_fraction', '<f8')]), Variables(range(0, 25)), {'timing': {'qpu_sampling_time': 2015.2, 'qpu_anneal_time_per_sample': 100.0, 'qpu_readout_time_per_sample': 80.98, 'qpu_access_time': 17775.17, 'qpu_access_overhead_time': 1342.83, 'qpu_programming_time': 15759.97, 'qpu_delay_time_per_sample': 20.54, 'post_processing_overhead_time': 1967.0, 'total_post_processing_time': 1967.0}, 'problem_id': 'f3e48b56-ee90-4720-be64-c4a3de9e3858', 'problem_label': 'CDF', 'embedding_context': {'embedding': {1: (1602, 5288), 0: (1572,), 2: (1587,), 3: (5258,), 4: (5273,), 6: (497,), 5: (3497,), 7: (482,), 8: (3391, 437), 9: (3482,), 11: (2015, 3851), 10: (2165,), 12: (3881,), 13: (2180,), 14: (3896,), 16: (4458, 728), 15: (4413,), 17: (698,), 18: (4428,), 19: (713,), 21: (1852, 4284), 20: (4240,), 22: (4255,), 23: (1927,), 24: (1942,)}, 'chain_break_method': 'majority_vote', 'embedding_parameters': {}, 'chain_strength': 2}, 'warnings': []}, 'SPIN')"
      ]
     },
     "execution_count": 7,
     "metadata": {},
     "output_type": "execute_result"
    }
   ],
   "source": [
    "response.lowest()"
   ]
  },
  {
   "cell_type": "code",
   "execution_count": 8,
   "id": "14c0a3ef",
   "metadata": {},
   "outputs": [],
   "source": [
    "first_result = np.array(list(response.first.sample.values()))"
   ]
  },
  {
   "cell_type": "code",
   "execution_count": 9,
   "id": "703c7939",
   "metadata": {},
   "outputs": [
    {
     "data": {
      "text/plain": [
       "array([ 1, -1, -1, -1,  1, -1,  1, -1, -1, -1, -1,  1, -1, -1, -1,  1,  1,\n",
       "       -1, -1,  1, -1, -1, -1, -1,  1], dtype=int8)"
      ]
     },
     "execution_count": 9,
     "metadata": {},
     "output_type": "execute_result"
    }
   ],
   "source": [
    "first_result"
   ]
  },
  {
   "cell_type": "code",
   "execution_count": 10,
   "id": "f4345350",
   "metadata": {},
   "outputs": [],
   "source": [
    "#first_result = np.array([1, 1, 1, -1, -1, -1, -1, -1, -1, -1, -1, -1, -1, -1, -1])\n",
    "\n",
    "result_matrix = first_result.reshape(N, M).T"
   ]
  },
  {
   "cell_type": "code",
   "execution_count": 11,
   "id": "eb4a4bb2",
   "metadata": {},
   "outputs": [
    {
     "data": {
      "text/plain": [
       "<matplotlib.image.AxesImage at 0x23bb711f250>"
      ]
     },
     "execution_count": 11,
     "metadata": {},
     "output_type": "execute_result"
    },
    {
     "data": {
      "image/png": "[encoded data removed]",
      "text/plain": [
       "<Figure size 432x288 with 1 Axes>"
      ]
     },
     "metadata": {
      "needs_background": "light"
     },
     "output_type": "display_data"
    }
   ],
   "source": [
    "plt.figure()\n",
    "plt.imshow(result_matrix)"
   ]
  },
  {
   "cell_type": "code",
   "execution_count": 79,
   "id": "171e1667",
   "metadata": {},
   "outputs": [
    {
     "data": {
      "text/plain": [
       "SampleSet(rec.array([([-1, -1],  1., 1), ([ 1, -1], -1., 1), ([ 1,  1],  1., 1),\n",
       "           ([-1,  1], -1., 1)],\n",
       "          dtype=[('sample', 'i1', (2,)), ('energy', '<f8'), ('num_occurrences', '<i4')]), Variables([0, 1]), {}, 'SPIN')"
      ]
     },
     "execution_count": 79,
     "metadata": {},
     "output_type": "execute_result"
    }
   ],
   "source": [
    "h = defaultdict(int)\n",
    "J = defaultdict(int)\n",
    "h[0] = 0\n",
    "h[1] = 0\n",
    "J[(0, 1)] = 1\n",
    "response = dimod.ExactSolver().sample_ising(h, J)\n",
    "response"
   ]
  },
  {
   "cell_type": "code",
   "execution_count": 81,
   "id": "8ea01f45",
   "metadata": {},
   "outputs": [
    {
     "data": {
      "text/plain": [
       "Sample(sample={0: 1, 1: -1}, energy=-1.0, num_occurrences=1)"
      ]
     },
     "execution_count": 81,
     "metadata": {},
     "output_type": "execute_result"
    }
   ],
   "source": [
    "response.first"
   ]
  },
  {
   "cell_type": "code",
   "execution_count": null,
   "id": "c7e13bff",
   "metadata": {},
   "outputs": [],
   "source": []
  }
 ],
 "metadata": {
  "kernelspec": {
   "display_name": "Python 3 (ipykernel)",
   "language": "python",
   "name": "python3"
  },
  "language_info": {
   "codemirror_mode": {
    "name": "ipython",
    "version": 3
   },
   "file_extension": ".py",
   "mimetype": "text/x-python",
   "name": "python",
   "nbconvert_exporter": "python",
   "pygments_lexer": "ipython3",
   "version": "3.9.5"
  }
 },
 "nbformat": 4,
 "nbformat_minor": 5
}
