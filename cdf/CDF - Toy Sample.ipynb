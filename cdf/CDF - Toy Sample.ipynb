{
 "cells": [
  {
   "cell_type": "code",
   "execution_count": 1,
   "id": "87649ec9",
   "metadata": {},
   "outputs": [],
   "source": [
    "import numpy as np\n",
    "from dwave.system.samplers import DWaveSampler\n",
    "from dwave.system.composites import EmbeddingComposite\n",
    "import dwave.inspector\n",
    "import dimod\n",
    "import importlib\n",
    "from collections import defaultdict\n",
    "import matplotlib.pyplot as plt"
   ]
  },
  {
   "cell_type": "code",
   "execution_count": 2,
   "id": "d34a044e",
   "metadata": {},
   "outputs": [
    {
     "name": "stdout",
     "output_type": "stream",
     "text": [
      "defaultdict(<class 'int'>, {0: 0.07407407407407407, 1: 0.1111111111111111, 2: 0.2222222222222222, 3: 0.48148148148148145, 4: 0.037037037037037035, 5: 0.07407407407407407, 6: 0.1111111111111111, 7: 0.2222222222222222, 8: 0.48148148148148145, 9: 0.037037037037037035, 10: 0.07407407407407407, 11: 0.1111111111111111, 12: 0.2222222222222222, 13: 0.48148148148148145, 14: 0.037037037037037035, 15: 0.07407407407407407, 16: 0.1111111111111111, 17: 0.2222222222222222, 18: 0.48148148148148145, 19: 0.037037037037037035, 20: 0.07407407407407407, 21: 0.1111111111111111, 22: 0.2222222222222222, 23: 0.48148148148148145, 24: 0.037037037037037035})\n",
      "defaultdict(<class 'int'>, {(0, 1): 0.029914529914529878, (0, 2): 0.021367521367521385, (0, 3): 0.03988603988603992, (0, 4): -0.0028490028490028496, (1, 2): 0.01282051282051282, (1, 3): 0.059829059829059866, (1, 4): 0.03418803418803419, (2, 3): 0.08119658119658124, (2, 4): 0.02991452991452992, (3, 4): 0.019943019943019953, (5, 6): 0.029914529914529878, (5, 7): 0.021367521367521385, (5, 8): 0.03988603988603992, (5, 9): -0.0028490028490028496, (6, 7): 0.01282051282051282, (6, 8): 0.059829059829059866, (6, 9): 0.03418803418803419, (7, 8): 0.08119658119658124, (7, 9): 0.02991452991452992, (8, 9): 0.019943019943019953, (10, 11): 0.029914529914529878, (10, 12): 0.021367521367521385, (10, 13): 0.03988603988603992, (10, 14): -0.0028490028490028496, (11, 12): 0.01282051282051282, (11, 13): 0.059829059829059866, (11, 14): 0.03418803418803419, (12, 13): 0.08119658119658124, (12, 14): 0.02991452991452992, (13, 14): 0.019943019943019953, (15, 16): 0.029914529914529878, (15, 17): 0.021367521367521385, (15, 18): 0.03988603988603992, (15, 19): -0.0028490028490028496, (16, 17): 0.01282051282051282, (16, 18): 0.059829059829059866, (16, 19): 0.03418803418803419, (17, 18): 0.08119658119658124, (17, 19): 0.02991452991452992, (18, 19): 0.019943019943019953, (20, 21): 0.029914529914529878, (20, 22): 0.021367521367521385, (20, 23): 0.03988603988603992, (20, 24): -0.0028490028490028496, (21, 22): 0.01282051282051282, (21, 23): 0.059829059829059866, (21, 24): 0.03418803418803419, (22, 23): 0.08119658119658124, (22, 24): 0.02991452991452992, (23, 24): 0.019943019943019953})\n",
      "0.029914529914529878\n"
     ]
    }
   ],
   "source": [
    "# alternative configuration with real data\n",
    "\n",
    "means = np.load('means2.npy')\n",
    "covs = np.load('covs2.npy').T\n",
    "        \n",
    "# number of marks\n",
    "M = 5\n",
    "\n",
    "# number of nucleosomes\n",
    "N = 5\n",
    "\n",
    "# independent propensity\n",
    "h = defaultdict(int)\n",
    "for n in range(N):\n",
    "    for i in range(M):\n",
    "        x = n * M + i\n",
    "        h[x] = means[i]\n",
    "\n",
    "# pair-wise correlation\n",
    "J = defaultdict(int)\n",
    "for n in range(N):\n",
    "    for i in range(M):\n",
    "        for j in range(i+1, M):\n",
    "            x = n * M + i\n",
    "            y = n * M + j\n",
    "            J[(x, y)] = covs[i, j]  \n",
    "\n",
    "print(h)\n",
    "print(J)\n",
    "print(covs[0, 1])"
   ]
  },
  {
   "cell_type": "code",
   "execution_count": 3,
   "id": "94be1223",
   "metadata": {},
   "outputs": [
    {
     "name": "stdout",
     "output_type": "stream",
     "text": [
      "25\n"
     ]
    }
   ],
   "source": [
    "n_binary_vars = M * N\n",
    "print(n_binary_vars)"
   ]
  },
  {
   "cell_type": "markdown",
   "id": "be292e04",
   "metadata": {},
   "source": [
    "Encoding of $s_i^n$ to qubit register: counting variable $x = n \\cdot M + i$.\n",
    "So the register looks like this:\n",
    "$\\left[s_1^1, s_2^1, s_3^1, s_1^2, s_2^2, s_3^2, ...\\right]$"
   ]
  },
  {
   "cell_type": "code",
   "execution_count": 4,
   "id": "652edb7b",
   "metadata": {},
   "outputs": [
    {
     "name": "stdout",
     "output_type": "stream",
     "text": [
      "0.48148148148148145\n",
      "0.08119658119658124\n"
     ]
    }
   ],
   "source": [
    "h_max = max(h, key=h.get)\n",
    "J_max = max(J, key=J.get)\n",
    "print(h[h_max])\n",
    "print(J[J_max])"
   ]
  },
  {
   "cell_type": "code",
   "execution_count": 6,
   "id": "93a0e4b8",
   "metadata": {},
   "outputs": [],
   "source": [
    "use_qpu = True\n",
    "if use_qpu:\n",
    "    bqm = dimod.BQM.from_ising(h, J)\n",
    "    sampler = EmbeddingComposite(DWaveSampler())#solver='Advantage2_prototype1.1'))\n",
    "    response = sampler.sample(\n",
    "      bqm,\n",
    "      chain_strength=2,\n",
    "      num_reads=10,\n",
    "      annealing_time=20,\n",
    "      label='CDF',\n",
    "    )\n",
    "    dwave.inspector.show(response)\n",
    "elif True:\n",
    "    response = dimod.ExactSolver().sample_ising(h, J)\n",
    "else:\n",
    "    response = dimod.IdentitySampler().sample_qubo(Q, initial_states=[0.0, 1.0, 0.0, 0.0, 0.0, 0.0, 0.0, 0.0, 1.0, 0.0, 0.0, 0.0, 0.0, 0.0, 0.0, 0.0, 0.0, 0.0, 1.0, 0.0, 0.0, 0.0, 0.0, 0.0, 0.0, 0.0, 0.0, 1.0, 0.0, 0.0, 0.0, 0.0, 0.0, 0.0, 0.0, 0.0, 0.0, 0.0, 0.0, 0.0, 0.0, 1.0, 0.0, 0.0, 0.0, 0.0, 1.0, 0.0, 0.0, 0.0, 0.0, 0.0, 0.0, 0.0])\n"
   ]
  },
  {
   "cell_type": "code",
   "execution_count": 7,
   "id": "14c0a3ef",
   "metadata": {},
   "outputs": [
    {
     "data": {
      "text/plain": [
       "array([-1,  1, -1, -1,  1, -1, -1, -1, -1, -1,  1, -1, -1, -1,  1, -1, -1,\n",
       "       -1, -1,  1,  1,  1, -1, -1,  1], dtype=int8)"
      ]
     },
     "execution_count": 7,
     "metadata": {},
     "output_type": "execute_result"
    }
   ],
   "source": [
    "first_result = np.array(list(response.first.sample.values()))\n",
    "first_result"
   ]
  },
  {
   "cell_type": "code",
   "execution_count": 9,
   "id": "f4345350",
   "metadata": {},
   "outputs": [],
   "source": [
    "#first_result = np.array([1, 1, 1, -1, -1, -1, -1, -1, -1, -1, -1, -1, -1, -1, -1])\n",
    "\n",
    "result_matrix = first_result.reshape(N, M).T"
   ]
  },
  {
   "cell_type": "code",
   "execution_count": 10,
   "id": "eb4a4bb2",
   "metadata": {},
   "outputs": [
    {
     "data": {
      "text/plain": [
       "<matplotlib.image.AxesImage at 0x1d8f082b8e0>"
      ]
     },
     "execution_count": 10,
     "metadata": {},
     "output_type": "execute_result"
    },
    {
     "data": {
      "image/png": "[encoded data removed]",
      "text/plain": [
       "<Figure size 432x288 with 1 Axes>"
      ]
     },
     "metadata": {
      "needs_background": "light"
     },
     "output_type": "display_data"
    }
   ],
   "source": [
    "plt.figure()\n",
    "plt.imshow(result_matrix)"
   ]
  },
  {
   "cell_type": "code",
   "execution_count": null,
   "id": "c7e13bff",
   "metadata": {},
   "outputs": [],
   "source": []
  }
 ],
 "metadata": {
  "kernelspec": {
   "display_name": "Python 3 (ipykernel)",
   "language": "python",
   "name": "python3"
  },
  "language_info": {
   "codemirror_mode": {
    "name": "ipython",
    "version": 3
   },
   "file_extension": ".py",
   "mimetype": "text/x-python",
   "name": "python",
   "nbconvert_exporter": "python",
   "pygments_lexer": "ipython3",
   "version": "3.9.5"
  }
 },
 "nbformat": 4,
 "nbformat_minor": 5
}
