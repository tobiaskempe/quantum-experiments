{
 "cells": [
  {
   "cell_type": "code",
   "execution_count": 1,
   "id": "eb46b1a6",
   "metadata": {},
   "outputs": [],
   "source": [
    "import numpy as np\n",
    "from scipy.sparse import coo_array, kron"
   ]
  },
  {
   "cell_type": "code",
   "execution_count": 2,
   "id": "d29c5667",
   "metadata": {},
   "outputs": [],
   "source": [
    "a1 = np.ones((1024, 6))\n",
    "a2 = np.ones((1024, 1024))\n",
    "r = a1.T.dot(a2).dot(a1)"
   ]
  },
  {
   "cell_type": "code",
   "execution_count": 3,
   "id": "ef126726",
   "metadata": {},
   "outputs": [
    {
     "data": {
      "text/plain": [
       "array([[1048576., 1048576., 1048576., 1048576., 1048576., 1048576.],\n",
       "       [1048576., 1048576., 1048576., 1048576., 1048576., 1048576.],\n",
       "       [1048576., 1048576., 1048576., 1048576., 1048576., 1048576.],\n",
       "       [1048576., 1048576., 1048576., 1048576., 1048576., 1048576.],\n",
       "       [1048576., 1048576., 1048576., 1048576., 1048576., 1048576.],\n",
       "       [1048576., 1048576., 1048576., 1048576., 1048576., 1048576.]])"
      ]
     },
     "execution_count": 3,
     "metadata": {},
     "output_type": "execute_result"
    }
   ],
   "source": [
    "r"
   ]
  },
  {
   "cell_type": "code",
   "execution_count": null,
   "id": "67c340c8",
   "metadata": {},
   "outputs": [],
   "source": [
    "b1 = np.ones((1024, 6))\n",
    "b2 = coo_array(([1], ((0,), (0, ))), shape=(1024, 1024))\n",
    "s = (b1.T @ b2) @ b1"
   ]
  },
  {
   "cell_type": "code",
   "execution_count": 13,
   "id": "e5acd8f4",
   "metadata": {},
   "outputs": [
    {
     "data": {
      "text/plain": [
       "array([[0., 0., 0., 0., 0., 0.],\n",
       "       [0., 0., 0., 0., 0., 0.],\n",
       "       [0., 0., 0., 0., 0., 0.],\n",
       "       [0., 0., 0., 0., 0., 0.],\n",
       "       [0., 0., 0., 0., 0., 0.],\n",
       "       [0., 0., 0., 0., 0., 0.]])"
      ]
     },
     "execution_count": 13,
     "metadata": {},
     "output_type": "execute_result"
    }
   ],
   "source": [
    "s"
   ]
  },
  {
   "cell_type": "code",
   "execution_count": null,
   "id": "06406122",
   "metadata": {},
   "outputs": [],
   "source": []
  }
 ],
 "metadata": {
  "kernelspec": {
   "display_name": "Python 3 (ipykernel)",
   "language": "python",
   "name": "python3"
  },
  "language_info": {
   "codemirror_mode": {
    "name": "ipython",
    "version": 3
   },
   "file_extension": ".py",
   "mimetype": "text/x-python",
   "name": "python",
   "nbconvert_exporter": "python",
   "pygments_lexer": "ipython3",
   "version": "3.9.5"
  }
 },
 "nbformat": 4,
 "nbformat_minor": 5
}
