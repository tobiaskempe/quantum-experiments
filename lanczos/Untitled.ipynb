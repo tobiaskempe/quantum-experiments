{
 "cells": [
  {
   "cell_type": "code",
   "execution_count": 1,
   "id": "443614d4",
   "metadata": {},
   "outputs": [],
   "source": [
    "import numpy as np\n",
    "from scipy.sparse import coo_array, kron\n",
    "from collections import defaultdict\n",
    "from solver import lanczos_iteration"
   ]
  },
  {
   "cell_type": "code",
   "execution_count": 2,
   "id": "8354f45c",
   "metadata": {},
   "outputs": [],
   "source": [
    "A = np.load('problem_10_1.npy')\n",
    "F = A.shape[1]\n",
    "R = A.shape[0]\n",
    "lamb = 0\n",
    "\n",
    "c = np.zeros((R))\n",
    "\n",
    "# compute helper variables\n",
    "b = np.ones((F))\n",
    "aat = A.dot(A.T)\n",
    "\n",
    "h = defaultdict(int)\n",
    "J = defaultdict(int)\n",
    "\n",
    "for (i, occs) in enumerate(aat):\n",
    "  h[i] = 1/2 * np.sum(occs) - np.sum(A[i]) + 1/2 * lamb * c[i]\n",
    "\n",
    "for j in range(R):\n",
    "  for i in range(j):\n",
    "    J[(i, j)] = 1/2 * aat[i, j]\n",
    "\n",
    "pauli_0 = coo_array(([1, 1], ((0, 1), (0, 1))), shape=(2, 2))\n",
    "pauli_x = coo_array(([1, 1], ((0, 1), (1, 0))), shape=(2, 2))\n",
    "pauli_y = coo_array(([-1j, 1j], ((0, 1), (1, 0))), shape=(2, 2))\n",
    "pauli_z = coo_array(([1, -1], ((0, 1), (0, 1))), shape=(2, 2))\n",
    "\n",
    "n_qubits = 10\n",
    "n_dims = 2 ** n_qubits"
   ]
  },
  {
   "cell_type": "code",
   "execution_count": 3,
   "id": "691d9f7c",
   "metadata": {},
   "outputs": [],
   "source": [
    "all_x = coo_array(([0], ((0, ), (0, ))), shape=(n_dims, n_dims))\n",
    "for i in range(n_qubits):\n",
    "  x_i = pauli_x.copy()\n",
    "  for _ in range(0, i):\n",
    "    x_i = kron(pauli_0, x_i)\n",
    "  for _ in range(i+1, n_qubits):\n",
    "    x_i = kron(x_i, pauli_0)\n",
    "  all_x += x_i\n",
    "\n",
    "all_z = coo_array(([0], ((0, ), (0, ))), shape=(n_dims, n_dims))\n",
    "for i, h_i in h.items():\n",
    "  z_i = pauli_z.copy()\n",
    "  for _ in range(0, i):\n",
    "    z_i = kron(pauli_0, z_i)\n",
    "  for _ in range(i+1, n_qubits):\n",
    "    z_i = kron(z_i, pauli_0)\n",
    "  all_z += h_i * z_i\n",
    "\n",
    "hamiltonian = 0.5 * all_x + 0.5 * all_z"
   ]
  },
  {
   "cell_type": "code",
   "execution_count": 4,
   "id": "787b59d7",
   "metadata": {},
   "outputs": [
    {
     "name": "stdout",
     "output_type": "stream",
     "text": [
      "Print iteration 1.\n",
      "Print iteration 2.\n",
      "Print iteration 3.\n",
      "Print iteration 4.\n",
      "Print iteration 5.\n"
     ]
    }
   ],
   "source": [
    "ones = np.ones((n_dims))\n",
    "\n",
    "Q, T = lanczos_iteration(hamiltonian, ones, 5)"
   ]
  },
  {
   "cell_type": "code",
   "execution_count": 5,
   "id": "50446928",
   "metadata": {
    "scrolled": true
   },
   "outputs": [
    {
     "name": "stdout",
     "output_type": "stream",
     "text": [
      "Tk: [[<1024x1024 sparse array of type '<class 'numpy.float64'>'\n",
      "  \twith 11264 stored elements in Compressed Sparse Row format>\n",
      "  <1024x1024 sparse array of type '<class 'numpy.float64'>'\n",
      "  \twith 11264 stored elements in Compressed Sparse Row format>\n",
      "  <1024x1024 sparse array of type '<class 'numpy.float64'>'\n",
      "  \twith 11264 stored elements in Compressed Sparse Row format>\n",
      "  <1024x1024 sparse array of type '<class 'numpy.float64'>'\n",
      "  \twith 11264 stored elements in Compressed Sparse Row format>\n",
      "  <1024x1024 sparse array of type '<class 'numpy.float64'>'\n",
      "  \twith 11264 stored elements in Compressed Sparse Row format>\n",
      "  <1024x1024 sparse array of type '<class 'numpy.float64'>'\n",
      "  \twith 11264 stored elements in Compressed Sparse Row format>]\n",
      " [<1024x1024 sparse array of type '<class 'numpy.float64'>'\n",
      "  \twith 11264 stored elements in Compressed Sparse Row format>\n",
      "  <1024x1024 sparse array of type '<class 'numpy.float64'>'\n",
      "  \twith 11264 stored elements in Compressed Sparse Row format>\n",
      "  <1024x1024 sparse array of type '<class 'numpy.float64'>'\n",
      "  \twith 11264 stored elements in Compressed Sparse Row format>\n",
      "  <1024x1024 sparse array of type '<class 'numpy.float64'>'\n",
      "  \twith 11264 stored elements in Compressed Sparse Row format>\n",
      "  <1024x1024 sparse array of type '<class 'numpy.float64'>'\n",
      "  \twith 11264 stored elements in Compressed Sparse Row format>\n",
      "  <1024x1024 sparse array of type '<class 'numpy.float64'>'\n",
      "  \twith 11264 stored elements in Compressed Sparse Row format>]\n",
      " [<1024x1024 sparse array of type '<class 'numpy.float64'>'\n",
      "  \twith 11264 stored elements in Compressed Sparse Row format>\n",
      "  <1024x1024 sparse array of type '<class 'numpy.float64'>'\n",
      "  \twith 11264 stored elements in Compressed Sparse Row format>\n",
      "  <1024x1024 sparse array of type '<class 'numpy.float64'>'\n",
      "  \twith 11264 stored elements in Compressed Sparse Row format>\n",
      "  <1024x1024 sparse array of type '<class 'numpy.float64'>'\n",
      "  \twith 11264 stored elements in Compressed Sparse Row format>\n",
      "  <1024x1024 sparse array of type '<class 'numpy.float64'>'\n",
      "  \twith 11264 stored elements in Compressed Sparse Row format>\n",
      "  <1024x1024 sparse array of type '<class 'numpy.float64'>'\n",
      "  \twith 11264 stored elements in Compressed Sparse Row format>]\n",
      " [<1024x1024 sparse array of type '<class 'numpy.float64'>'\n",
      "  \twith 11264 stored elements in Compressed Sparse Row format>\n",
      "  <1024x1024 sparse array of type '<class 'numpy.float64'>'\n",
      "  \twith 11264 stored elements in Compressed Sparse Row format>\n",
      "  <1024x1024 sparse array of type '<class 'numpy.float64'>'\n",
      "  \twith 11264 stored elements in Compressed Sparse Row format>\n",
      "  <1024x1024 sparse array of type '<class 'numpy.float64'>'\n",
      "  \twith 11264 stored elements in Compressed Sparse Row format>\n",
      "  <1024x1024 sparse array of type '<class 'numpy.float64'>'\n",
      "  \twith 11264 stored elements in Compressed Sparse Row format>\n",
      "  <1024x1024 sparse array of type '<class 'numpy.float64'>'\n",
      "  \twith 11264 stored elements in Compressed Sparse Row format>]\n",
      " [<1024x1024 sparse array of type '<class 'numpy.float64'>'\n",
      "  \twith 11264 stored elements in Compressed Sparse Row format>\n",
      "  <1024x1024 sparse array of type '<class 'numpy.float64'>'\n",
      "  \twith 11264 stored elements in Compressed Sparse Row format>\n",
      "  <1024x1024 sparse array of type '<class 'numpy.float64'>'\n",
      "  \twith 11264 stored elements in Compressed Sparse Row format>\n",
      "  <1024x1024 sparse array of type '<class 'numpy.float64'>'\n",
      "  \twith 11264 stored elements in Compressed Sparse Row format>\n",
      "  <1024x1024 sparse array of type '<class 'numpy.float64'>'\n",
      "  \twith 11264 stored elements in Compressed Sparse Row format>\n",
      "  <1024x1024 sparse array of type '<class 'numpy.float64'>'\n",
      "  \twith 11264 stored elements in Compressed Sparse Row format>]\n",
      " [<1024x1024 sparse array of type '<class 'numpy.float64'>'\n",
      "  \twith 11264 stored elements in Compressed Sparse Row format>\n",
      "  <1024x1024 sparse array of type '<class 'numpy.float64'>'\n",
      "  \twith 11264 stored elements in Compressed Sparse Row format>\n",
      "  <1024x1024 sparse array of type '<class 'numpy.float64'>'\n",
      "  \twith 11264 stored elements in Compressed Sparse Row format>\n",
      "  <1024x1024 sparse array of type '<class 'numpy.float64'>'\n",
      "  \twith 11264 stored elements in Compressed Sparse Row format>\n",
      "  <1024x1024 sparse array of type '<class 'numpy.float64'>'\n",
      "  \twith 11264 stored elements in Compressed Sparse Row format>\n",
      "  <1024x1024 sparse array of type '<class 'numpy.float64'>'\n",
      "  \twith 11264 stored elements in Compressed Sparse Row format>]]\n"
     ]
    }
   ],
   "source": [
    "Tk = Q.T.dot(hamiltonian).dot(Q)\n",
    "print('Tk:', Tk)"
   ]
  },
  {
   "cell_type": "code",
   "execution_count": 7,
   "id": "2f65ea34",
   "metadata": {},
   "outputs": [
    {
     "name": "stdout",
     "output_type": "stream",
     "text": [
      "(6, 6)\n",
      "(1024, 6)\n",
      "(1024, 1024)\n",
      "<class 'numpy.ndarray'>\n",
      "<class 'scipy.sparse._arrays.csr_array'>\n",
      "[[<6x6 sparse array of type '<class 'numpy.float64'>'\n",
      "  \twith 20 stored elements in Compressed Sparse Row format>\n",
      "  <6x6 sparse array of type '<class 'numpy.float64'>'\n",
      "  \twith 20 stored elements in Compressed Sparse Row format>\n",
      "  <6x6 sparse array of type '<class 'numpy.float64'>'\n",
      "  \twith 20 stored elements in Compressed Sparse Row format> ...\n",
      "  <6x6 sparse array of type '<class 'numpy.float64'>'\n",
      "  \twith 20 stored elements in Compressed Sparse Row format>\n",
      "  <6x6 sparse array of type '<class 'numpy.float64'>'\n",
      "  \twith 20 stored elements in Compressed Sparse Row format>\n",
      "  <6x6 sparse array of type '<class 'numpy.float64'>'\n",
      "  \twith 20 stored elements in Compressed Sparse Row format>]\n",
      " [<6x6 sparse array of type '<class 'numpy.float64'>'\n",
      "  \twith 20 stored elements in Compressed Sparse Row format>\n",
      "  <6x6 sparse array of type '<class 'numpy.float64'>'\n",
      "  \twith 20 stored elements in Compressed Sparse Row format>\n",
      "  <6x6 sparse array of type '<class 'numpy.float64'>'\n",
      "  \twith 20 stored elements in Compressed Sparse Row format> ...\n",
      "  <6x6 sparse array of type '<class 'numpy.float64'>'\n",
      "  \twith 20 stored elements in Compressed Sparse Row format>\n",
      "  <6x6 sparse array of type '<class 'numpy.float64'>'\n",
      "  \twith 20 stored elements in Compressed Sparse Row format>\n",
      "  <6x6 sparse array of type '<class 'numpy.float64'>'\n",
      "  \twith 20 stored elements in Compressed Sparse Row format>]\n",
      " [<6x6 sparse array of type '<class 'numpy.float64'>'\n",
      "  \twith 20 stored elements in Compressed Sparse Row format>\n",
      "  <6x6 sparse array of type '<class 'numpy.float64'>'\n",
      "  \twith 20 stored elements in Compressed Sparse Row format>\n",
      "  <6x6 sparse array of type '<class 'numpy.float64'>'\n",
      "  \twith 20 stored elements in Compressed Sparse Row format> ...\n",
      "  <6x6 sparse array of type '<class 'numpy.float64'>'\n",
      "  \twith 20 stored elements in Compressed Sparse Row format>\n",
      "  <6x6 sparse array of type '<class 'numpy.float64'>'\n",
      "  \twith 20 stored elements in Compressed Sparse Row format>\n",
      "  <6x6 sparse array of type '<class 'numpy.float64'>'\n",
      "  \twith 20 stored elements in Compressed Sparse Row format>]\n",
      " [<6x6 sparse array of type '<class 'numpy.float64'>'\n",
      "  \twith 20 stored elements in Compressed Sparse Row format>\n",
      "  <6x6 sparse array of type '<class 'numpy.float64'>'\n",
      "  \twith 20 stored elements in Compressed Sparse Row format>\n",
      "  <6x6 sparse array of type '<class 'numpy.float64'>'\n",
      "  \twith 20 stored elements in Compressed Sparse Row format> ...\n",
      "  <6x6 sparse array of type '<class 'numpy.float64'>'\n",
      "  \twith 20 stored elements in Compressed Sparse Row format>\n",
      "  <6x6 sparse array of type '<class 'numpy.float64'>'\n",
      "  \twith 20 stored elements in Compressed Sparse Row format>\n",
      "  <6x6 sparse array of type '<class 'numpy.float64'>'\n",
      "  \twith 20 stored elements in Compressed Sparse Row format>]\n",
      " [<6x6 sparse array of type '<class 'numpy.float64'>'\n",
      "  \twith 20 stored elements in Compressed Sparse Row format>\n",
      "  <6x6 sparse array of type '<class 'numpy.float64'>'\n",
      "  \twith 20 stored elements in Compressed Sparse Row format>\n",
      "  <6x6 sparse array of type '<class 'numpy.float64'>'\n",
      "  \twith 20 stored elements in Compressed Sparse Row format> ...\n",
      "  <6x6 sparse array of type '<class 'numpy.float64'>'\n",
      "  \twith 20 stored elements in Compressed Sparse Row format>\n",
      "  <6x6 sparse array of type '<class 'numpy.float64'>'\n",
      "  \twith 20 stored elements in Compressed Sparse Row format>\n",
      "  <6x6 sparse array of type '<class 'numpy.float64'>'\n",
      "  \twith 20 stored elements in Compressed Sparse Row format>]\n",
      " [<6x6 sparse array of type '<class 'numpy.float64'>'\n",
      "  \twith 20 stored elements in Compressed Sparse Row format>\n",
      "  <6x6 sparse array of type '<class 'numpy.float64'>'\n",
      "  \twith 20 stored elements in Compressed Sparse Row format>\n",
      "  <6x6 sparse array of type '<class 'numpy.float64'>'\n",
      "  \twith 20 stored elements in Compressed Sparse Row format> ...\n",
      "  <6x6 sparse array of type '<class 'numpy.float64'>'\n",
      "  \twith 20 stored elements in Compressed Sparse Row format>\n",
      "  <6x6 sparse array of type '<class 'numpy.float64'>'\n",
      "  \twith 20 stored elements in Compressed Sparse Row format>\n",
      "  <6x6 sparse array of type '<class 'numpy.float64'>'\n",
      "  \twith 20 stored elements in Compressed Sparse Row format>]]\n"
     ]
    }
   ],
   "source": [
    "print(Tk.shape)\n",
    "print(Q.shape)\n",
    "print(hamiltonian.shape)\n",
    "print(type(Tk))\n",
    "print(type(hamiltonian))\n",
    "print(Q.T.dot(hamiltonian[:6, :6]))"
   ]
  },
  {
   "cell_type": "code",
   "execution_count": 15,
   "id": "e38c3441",
   "metadata": {},
   "outputs": [
    {
     "ename": "UFuncTypeError",
     "evalue": "Cannot cast ufunc 'eigh_lo' input from dtype('O') to dtype('float64') with casting rule 'same_kind'",
     "output_type": "error",
     "traceback": [
      "\u001b[1;31m---------------------------------------------------------------------------\u001b[0m",
      "\u001b[1;31mUFuncTypeError\u001b[0m                            Traceback (most recent call last)",
      "Input \u001b[1;32mIn [15]\u001b[0m, in \u001b[0;36m<cell line: 1>\u001b[1;34m()\u001b[0m\n\u001b[1;32m----> 1\u001b[0m ut, vt \u001b[38;5;241m=\u001b[39m \u001b[43mnp\u001b[49m\u001b[38;5;241;43m.\u001b[39;49m\u001b[43mlinalg\u001b[49m\u001b[38;5;241;43m.\u001b[39;49m\u001b[43meigh\u001b[49m\u001b[43m(\u001b[49m\u001b[43mTk\u001b[49m\u001b[43m)\u001b[49m\n\u001b[0;32m      2\u001b[0m ut \u001b[38;5;241m=\u001b[39m np\u001b[38;5;241m.\u001b[39msort(ut)\n\u001b[0;32m      3\u001b[0m \u001b[38;5;28mprint\u001b[39m(\u001b[38;5;124m'\u001b[39m\u001b[38;5;124mapproximation:\u001b[39m\u001b[38;5;124m'\u001b[39m, ut)\n",
      "File \u001b[1;32m<__array_function__ internals>:180\u001b[0m, in \u001b[0;36meigh\u001b[1;34m(*args, **kwargs)\u001b[0m\n",
      "File \u001b[1;32mc:\\users\\tkemp\\ocean\\lib\\site-packages\\numpy\\linalg\\linalg.py:1458\u001b[0m, in \u001b[0;36meigh\u001b[1;34m(a, UPLO)\u001b[0m\n\u001b[0;32m   1455\u001b[0m     gufunc \u001b[38;5;241m=\u001b[39m _umath_linalg\u001b[38;5;241m.\u001b[39meigh_up\n\u001b[0;32m   1457\u001b[0m signature \u001b[38;5;241m=\u001b[39m \u001b[38;5;124m'\u001b[39m\u001b[38;5;124mD->dD\u001b[39m\u001b[38;5;124m'\u001b[39m \u001b[38;5;28;01mif\u001b[39;00m isComplexType(t) \u001b[38;5;28;01melse\u001b[39;00m \u001b[38;5;124m'\u001b[39m\u001b[38;5;124md->dd\u001b[39m\u001b[38;5;124m'\u001b[39m\n\u001b[1;32m-> 1458\u001b[0m w, vt \u001b[38;5;241m=\u001b[39m \u001b[43mgufunc\u001b[49m\u001b[43m(\u001b[49m\u001b[43ma\u001b[49m\u001b[43m,\u001b[49m\u001b[43m \u001b[49m\u001b[43msignature\u001b[49m\u001b[38;5;241;43m=\u001b[39;49m\u001b[43msignature\u001b[49m\u001b[43m,\u001b[49m\u001b[43m \u001b[49m\u001b[43mextobj\u001b[49m\u001b[38;5;241;43m=\u001b[39;49m\u001b[43mextobj\u001b[49m\u001b[43m)\u001b[49m\n\u001b[0;32m   1459\u001b[0m w \u001b[38;5;241m=\u001b[39m w\u001b[38;5;241m.\u001b[39mastype(_realType(result_t), copy\u001b[38;5;241m=\u001b[39m\u001b[38;5;28;01mFalse\u001b[39;00m)\n\u001b[0;32m   1460\u001b[0m vt \u001b[38;5;241m=\u001b[39m vt\u001b[38;5;241m.\u001b[39mastype(result_t, copy\u001b[38;5;241m=\u001b[39m\u001b[38;5;28;01mFalse\u001b[39;00m)\n",
      "\u001b[1;31mUFuncTypeError\u001b[0m: Cannot cast ufunc 'eigh_lo' input from dtype('O') to dtype('float64') with casting rule 'same_kind'"
     ]
    }
   ],
   "source": [
    "ut, vt = np.linalg.eigh(Tk)\n",
    "ut = np.sort(ut)\n",
    "print('approximation:', ut)"
   ]
  },
  {
   "cell_type": "code",
   "execution_count": null,
   "id": "320c74c7",
   "metadata": {},
   "outputs": [],
   "source": [
    "u, v = np.linalg.eig(hamiltonian)\n",
    "u = np.sort(u)\n",
    "print('exact:', u)"
   ]
  },
  {
   "cell_type": "code",
   "execution_count": null,
   "id": "aac950ae",
   "metadata": {},
   "outputs": [],
   "source": [
    "diffs = u[:len(ut)] - ut\n",
    "print('diffs:', diffs.T)"
   ]
  },
  {
   "cell_type": "code",
   "execution_count": null,
   "id": "9f88bf7f",
   "metadata": {},
   "outputs": [],
   "source": []
  }
 ],
 "metadata": {
  "kernelspec": {
   "display_name": "Python 3 (ipykernel)",
   "language": "python",
   "name": "python3"
  },
  "language_info": {
   "codemirror_mode": {
    "name": "ipython",
    "version": 3
   },
   "file_extension": ".py",
   "mimetype": "text/x-python",
   "name": "python",
   "nbconvert_exporter": "python",
   "pygments_lexer": "ipython3",
   "version": "3.9.5"
  }
 },
 "nbformat": 4,
 "nbformat_minor": 5
}
