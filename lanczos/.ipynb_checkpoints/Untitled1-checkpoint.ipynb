{
 "cells": [
  {
   "cell_type": "code",
   "execution_count": 1,
   "id": "69d2327a",
   "metadata": {},
   "outputs": [],
   "source": [
    "import numpy as np\n",
    "from scipy.sparse import coo_array, kron"
   ]
  },
  {
   "cell_type": "code",
   "execution_count": 2,
   "id": "db1615a3",
   "metadata": {},
   "outputs": [],
   "source": [
    "a1 = np.ones((1024, 6))\n",
    "a2 = np.ones((1024, 1024))\n",
    "r = a1.T.dot(a2).dot(a1)"
   ]
  },
  {
   "cell_type": "code",
   "execution_count": 3,
   "id": "90e389a1",
   "metadata": {},
   "outputs": [
    {
     "data": {
      "text/plain": [
       "array([[1048576., 1048576., 1048576., 1048576., 1048576., 1048576.],\n",
       "       [1048576., 1048576., 1048576., 1048576., 1048576., 1048576.],\n",
       "       [1048576., 1048576., 1048576., 1048576., 1048576., 1048576.],\n",
       "       [1048576., 1048576., 1048576., 1048576., 1048576., 1048576.],\n",
       "       [1048576., 1048576., 1048576., 1048576., 1048576., 1048576.],\n",
       "       [1048576., 1048576., 1048576., 1048576., 1048576., 1048576.]])"
      ]
     },
     "execution_count": 3,
     "metadata": {},
     "output_type": "execute_result"
    }
   ],
   "source": [
    "r"
   ]
  },
  {
   "cell_type": "code",
   "execution_count": null,
   "id": "21d3bb51",
   "metadata": {},
   "outputs": [],
   "source": [
    "b1 = np.ones((1024, 6))\n",
    "b2 = coo_array(([0], ((0,), (0, ))), shape=(1024, 1024))\n",
    "s = b1.T.dot(b2).dot(b1)"
   ]
  },
  {
   "cell_type": "code",
   "execution_count": null,
   "id": "dccf5990",
   "metadata": {},
   "outputs": [],
   "source": []
  }
 ],
 "metadata": {
  "kernelspec": {
   "display_name": "Python 3 (ipykernel)",
   "language": "python",
   "name": "python3"
  },
  "language_info": {
   "codemirror_mode": {
    "name": "ipython",
    "version": 3
   },
   "file_extension": ".py",
   "mimetype": "text/x-python",
   "name": "python",
   "nbconvert_exporter": "python",
   "pygments_lexer": "ipython3",
   "version": "3.9.5"
  }
 },
 "nbformat": 4,
 "nbformat_minor": 5
}
